{
 "cells": [
  {
   "cell_type": "markdown",
   "id": "3e1782ed",
   "metadata": {
    "id": "3e1782ed",
    "papermill": {
     "duration": 0.012448,
     "end_time": "2024-05-04T14:15:51.253373",
     "exception": false,
     "start_time": "2024-05-04T14:15:51.240925",
     "status": "completed"
    },
    "tags": []
   },
   "source": [
    "## Importing the relevant libraries"
   ]
  },
  {
   "cell_type": "code",
   "execution_count": null,
   "id": "d6d0c5c5",
   "metadata": {
    "colab": {
     "base_uri": "https://localhost:8080/"
    },
    "execution": {
     "iopub.execute_input": "2024-05-04T14:15:51.278826Z",
     "iopub.status.busy": "2024-05-04T14:15:51.278537Z",
     "iopub.status.idle": "2024-05-04T14:16:07.176133Z",
     "shell.execute_reply": "2024-05-04T14:16:07.175031Z"
    },
    "id": "d6d0c5c5",
    "outputId": "d655637a-3de3-45da-b239-fb1d93029286",
    "papermill": {
     "duration": 15.913,
     "end_time": "2024-05-04T14:16:07.178436",
     "exception": false,
     "start_time": "2024-05-04T14:15:51.265436",
     "status": "completed"
    },
    "tags": []
   },
   "outputs": [],
   "source": [
    "!pip install wget"
   ]
  },
  {
   "cell_type": "code",
   "execution_count": null,
   "id": "5b48718d",
   "metadata": {
    "colab": {
     "base_uri": "https://localhost:8080/",
     "height": 1000
    },
    "execution": {
     "iopub.execute_input": "2024-05-04T14:16:07.206431Z",
     "iopub.status.busy": "2024-05-04T14:16:07.205782Z",
     "iopub.status.idle": "2024-05-04T14:17:09.759185Z",
     "shell.execute_reply": "2024-05-04T14:17:09.758191Z"
    },
    "id": "5b48718d",
    "outputId": "77fa9acc-5d13-4852-a109-8935c5ce1283",
    "papermill": {
     "duration": 62.569834,
     "end_time": "2024-05-04T14:17:09.761462",
     "exception": false,
     "start_time": "2024-05-04T14:16:07.191628",
     "status": "completed"
    },
    "tags": []
   },
   "outputs": [],
   "source": [
    "pip install tensorflow==2.12.0"
   ]
  },
  {
   "cell_type": "code",
   "execution_count": null,
   "id": "20d2384c",
   "metadata": {
    "colab": {
     "base_uri": "https://localhost:8080/"
    },
    "execution": {
     "iopub.execute_input": "2024-05-04T14:17:09.824739Z",
     "iopub.status.busy": "2024-05-04T14:17:09.823966Z",
     "iopub.status.idle": "2024-05-04T14:17:22.324513Z",
     "shell.execute_reply": "2024-05-04T14:17:22.323487Z"
    },
    "id": "20d2384c",
    "outputId": "4f546fca-5f4c-4efd-8600-89058a1851db",
    "papermill": {
     "duration": 12.534483,
     "end_time": "2024-05-04T14:17:22.326989",
     "exception": false,
     "start_time": "2024-05-04T14:17:09.792506",
     "status": "completed"
    },
    "tags": []
   },
   "outputs": [],
   "source": [
    "import numpy as np\n",
    "import pandas as pd\n",
    "import seaborn as sns\n",
    "import matplotlib.pyplot as plt\n",
    "%matplotlib inline\n",
    "import warnings, wget, gc\n",
    "warnings.filterwarnings('ignore')\n",
    "from transformers import AutoTokenizer, TFAutoModelForSequenceClassification\n",
    "wget.download(\"https://raw.githubusercontent.com/yogawicaksana/helper_prabowo/main/helper_prabowo_ml.py\",out=\"helper_prabowo_ml.py\")\n",
    "from sklearn.model_selection import train_test_split\n",
    "import tensorflow as tf\n",
    "from tensorflow.keras.models import Model, load_model\n",
    "from tensorflow.keras.layers import Dense, Input, Flatten, Dropout, BatchNormalization\n",
    "from tensorflow.keras.utils import plot_model, to_categorical\n",
    "from tensorflow.keras.preprocessing.sequence import pad_sequences\n",
    "from tensorflow.keras.metrics import CategoricalAccuracy\n",
    "from tensorflow.keras.losses import CategoricalCrossentropy\n",
    "from tensorflow.keras.callbacks import EarlyStopping, LearningRateScheduler, ModelCheckpoint\n",
    "from sklearn.preprocessing import LabelEncoder\n",
    "from tensorflow.keras.optimizers import Adam\n",
    "from wordcloud import WordCloud\n",
    "from sklearn.metrics import ConfusionMatrixDisplay, classification_report, confusion_matrix\n",
    "from helper_prabowo_ml import clean_html, remove_, remove_digits, remove_digits, remove_special_characters, removeStopWords, remove_links, punct, email_address, lower, non_ascii"
   ]
  },
  {
   "cell_type": "markdown",
   "id": "121fc950",
   "metadata": {
    "id": "121fc950",
    "papermill": {
     "duration": 0.028662,
     "end_time": "2024-05-04T14:17:22.385532",
     "exception": false,
     "start_time": "2024-05-04T14:17:22.356870",
     "status": "completed"
    },
    "tags": []
   },
   "source": [
    "## Loading the dataset"
   ]
  },
  {
   "cell_type": "code",
   "execution_count": null,
   "id": "d4bd49ec",
   "metadata": {
    "colab": {
     "base_uri": "https://localhost:8080/",
     "height": 206
    },
    "execution": {
     "iopub.execute_input": "2024-05-04T14:17:22.444912Z",
     "iopub.status.busy": "2024-05-04T14:17:22.444293Z",
     "iopub.status.idle": "2024-05-04T14:17:22.492570Z",
     "shell.execute_reply": "2024-05-04T14:17:22.491658Z"
    },
    "id": "d4bd49ec",
    "outputId": "3b1bd035-b65c-474d-fb77-85ab51855234",
    "papermill": {
     "duration": 0.079947,
     "end_time": "2024-05-04T14:17:22.494567",
     "exception": false,
     "start_time": "2024-05-04T14:17:22.414620",
     "status": "completed"
    },
    "tags": []
   },
   "outputs": [],
   "source": [
    "df = pd.read_csv(\"Symptom2Disease.csv\")\n",
    "df.drop('Unnamed: 0',axis=1,inplace=True)\n",
    "df = df.sample(frac=0.5).reset_index(drop=True)\n",
    "df.head()"
   ]
  },
  {
   "cell_type": "code",
   "execution_count": null,
   "id": "a86661c2",
   "metadata": {
    "colab": {
     "base_uri": "https://localhost:8080/"
    },
    "execution": {
     "iopub.execute_input": "2024-05-04T14:17:22.554219Z",
     "iopub.status.busy": "2024-05-04T14:17:22.553872Z",
     "iopub.status.idle": "2024-05-04T14:17:22.559892Z",
     "shell.execute_reply": "2024-05-04T14:17:22.559040Z"
    },
    "id": "a86661c2",
    "outputId": "89572592-60db-4b7c-f9d5-75a721caa492",
    "papermill": {
     "duration": 0.037854,
     "end_time": "2024-05-04T14:17:22.561826",
     "exception": false,
     "start_time": "2024-05-04T14:17:22.523972",
     "status": "completed"
    },
    "tags": []
   },
   "outputs": [],
   "source": [
    "df.shape"
   ]
  },
  {
   "cell_type": "code",
   "execution_count": null,
   "id": "b41acf07",
   "metadata": {
    "colab": {
     "base_uri": "https://localhost:8080/"
    },
    "execution": {
     "iopub.execute_input": "2024-05-04T14:17:22.621766Z",
     "iopub.status.busy": "2024-05-04T14:17:22.621476Z",
     "iopub.status.idle": "2024-05-04T14:17:22.640171Z",
     "shell.execute_reply": "2024-05-04T14:17:22.639072Z"
    },
    "id": "b41acf07",
    "outputId": "599a0671-824f-4ff7-a847-66c5a9c25f11",
    "papermill": {
     "duration": 0.05084,
     "end_time": "2024-05-04T14:17:22.642028",
     "exception": false,
     "start_time": "2024-05-04T14:17:22.591188",
     "status": "completed"
    },
    "tags": []
   },
   "outputs": [],
   "source": [
    "df.info()"
   ]
  },
  {
   "cell_type": "code",
   "execution_count": null,
   "id": "d0d629d4",
   "metadata": {
    "colab": {
     "base_uri": "https://localhost:8080/",
     "height": 175
    },
    "execution": {
     "iopub.execute_input": "2024-05-04T14:17:22.701807Z",
     "iopub.status.busy": "2024-05-04T14:17:22.701517Z",
     "iopub.status.idle": "2024-05-04T14:17:22.716335Z",
     "shell.execute_reply": "2024-05-04T14:17:22.715355Z"
    },
    "id": "d0d629d4",
    "outputId": "e372be4f-6a9a-4b3b-a7ed-b3b499d952ca",
    "papermill": {
     "duration": 0.046881,
     "end_time": "2024-05-04T14:17:22.718257",
     "exception": false,
     "start_time": "2024-05-04T14:17:22.671376",
     "status": "completed"
    },
    "tags": []
   },
   "outputs": [],
   "source": [
    "df.describe()"
   ]
  },
  {
   "cell_type": "code",
   "execution_count": null,
   "id": "81badf5e",
   "metadata": {
    "colab": {
     "base_uri": "https://localhost:8080/",
     "height": 147
    },
    "execution": {
     "iopub.execute_input": "2024-05-04T14:17:22.778506Z",
     "iopub.status.busy": "2024-05-04T14:17:22.777769Z",
     "iopub.status.idle": "2024-05-04T14:17:22.784610Z",
     "shell.execute_reply": "2024-05-04T14:17:22.783774Z"
    },
    "id": "81badf5e",
    "outputId": "12ee3cfc-e4f1-4a59-90f3-3b18702ab07e",
    "papermill": {
     "duration": 0.039311,
     "end_time": "2024-05-04T14:17:22.786837",
     "exception": false,
     "start_time": "2024-05-04T14:17:22.747526",
     "status": "completed"
    },
    "tags": []
   },
   "outputs": [],
   "source": [
    "df.isna().sum()"
   ]
  },
  {
   "cell_type": "code",
   "execution_count": null,
   "id": "6522e2e7",
   "metadata": {
    "colab": {
     "base_uri": "https://localhost:8080/"
    },
    "execution": {
     "iopub.execute_input": "2024-05-04T14:17:22.847803Z",
     "iopub.status.busy": "2024-05-04T14:17:22.847552Z",
     "iopub.status.idle": "2024-05-04T14:17:22.854246Z",
     "shell.execute_reply": "2024-05-04T14:17:22.853301Z"
    },
    "id": "6522e2e7",
    "outputId": "9a26d22a-2db3-4e20-897c-046e622a9063",
    "papermill": {
     "duration": 0.039305,
     "end_time": "2024-05-04T14:17:22.856399",
     "exception": false,
     "start_time": "2024-05-04T14:17:22.817094",
     "status": "completed"
    },
    "tags": []
   },
   "outputs": [],
   "source": [
    "df.duplicated().sum()"
   ]
  },
  {
   "cell_type": "code",
   "execution_count": null,
   "id": "3192abfa",
   "metadata": {
    "colab": {
     "base_uri": "https://localhost:8080/"
    },
    "execution": {
     "iopub.execute_input": "2024-05-04T14:17:22.918350Z",
     "iopub.status.busy": "2024-05-04T14:17:22.918069Z",
     "iopub.status.idle": "2024-05-04T14:17:22.925633Z",
     "shell.execute_reply": "2024-05-04T14:17:22.924518Z"
    },
    "id": "3192abfa",
    "outputId": "39d8a38e-bc9c-478f-eb48-87952f4f5701",
    "papermill": {
     "duration": 0.041095,
     "end_time": "2024-05-04T14:17:22.927842",
     "exception": false,
     "start_time": "2024-05-04T14:17:22.886747",
     "status": "completed"
    },
    "tags": []
   },
   "outputs": [],
   "source": [
    "df = df.drop_duplicates()\n",
    "df.shape"
   ]
  },
  {
   "cell_type": "markdown",
   "id": "f1fe7d79",
   "metadata": {
    "id": "f1fe7d79",
    "papermill": {
     "duration": 0.030116,
     "end_time": "2024-05-04T14:17:22.988414",
     "exception": false,
     "start_time": "2024-05-04T14:17:22.958298",
     "status": "completed"
    },
    "tags": []
   },
   "source": [
    "## Exploratory Data Analysis (EDA)"
   ]
  },
  {
   "cell_type": "code",
   "execution_count": null,
   "id": "880214d4",
   "metadata": {
    "colab": {
     "base_uri": "https://localhost:8080/",
     "height": 580
    },
    "execution": {
     "iopub.execute_input": "2024-05-04T14:17:23.048934Z",
     "iopub.status.busy": "2024-05-04T14:17:23.048633Z",
     "iopub.status.idle": "2024-05-04T14:17:24.221270Z",
     "shell.execute_reply": "2024-05-04T14:17:24.220279Z"
    },
    "id": "880214d4",
    "outputId": "e323112f-4f74-43cb-9f98-27d3dd01d41e",
    "papermill": {
     "duration": 1.209637,
     "end_time": "2024-05-04T14:17:24.227707",
     "exception": false,
     "start_time": "2024-05-04T14:17:23.018070",
     "status": "completed"
    },
    "tags": []
   },
   "outputs": [],
   "source": [
    "plt.figure(figsize=(12,8))\n",
    "wc = WordCloud(width=600,height=300,random_state=101).generate(' '.join(df.text))\n",
    "plt.imshow(wc)\n",
    "plt.title('Word Cloud of Medical Text',pad=20,fontsize=25,fontweight='bold',color='sienna');"
   ]
  },
  {
   "cell_type": "code",
   "execution_count": null,
   "id": "02357b0a",
   "metadata": {
    "colab": {
     "base_uri": "https://localhost:8080/",
     "height": 335
    },
    "execution": {
     "iopub.execute_input": "2024-05-04T14:17:24.343468Z",
     "iopub.status.busy": "2024-05-04T14:17:24.343095Z",
     "iopub.status.idle": "2024-05-04T14:17:24.356618Z",
     "shell.execute_reply": "2024-05-04T14:17:24.355687Z"
    },
    "id": "02357b0a",
    "outputId": "f5846a16-e45e-421f-998f-0cac51023eb7",
    "papermill": {
     "duration": 0.052453,
     "end_time": "2024-05-04T14:17:24.358476",
     "exception": false,
     "start_time": "2024-05-04T14:17:24.306023",
     "status": "completed"
    },
    "tags": []
   },
   "outputs": [],
   "source": [
    "df['num_words'] = df.text.apply(len)\n",
    "df.num_words.describe()"
   ]
  },
  {
   "cell_type": "code",
   "execution_count": null,
   "id": "bd297506",
   "metadata": {
    "colab": {
     "base_uri": "https://localhost:8080/",
     "height": 406
    },
    "execution": {
     "iopub.execute_input": "2024-05-04T14:17:24.430487Z",
     "iopub.status.busy": "2024-05-04T14:17:24.429781Z",
     "iopub.status.idle": "2024-05-04T14:17:25.175653Z",
     "shell.execute_reply": "2024-05-04T14:17:25.174614Z"
    },
    "id": "bd297506",
    "outputId": "3d5b9cd7-8ffa-4e93-b4d6-03507b1bd965",
    "papermill": {
     "duration": 0.783987,
     "end_time": "2024-05-04T14:17:25.177960",
     "exception": false,
     "start_time": "2024-05-04T14:17:24.393973",
     "status": "completed"
    },
    "tags": []
   },
   "outputs": [],
   "source": [
    "plt.figure(figsize=(9,4))\n",
    "fig = sns.distplot(df['num_words'])\n",
    "plt.show(fig)\n",
    "plt.close('all')\n",
    "del fig\n",
    "gc.collect()"
   ]
  },
  {
   "cell_type": "code",
   "execution_count": null,
   "id": "90a637be",
   "metadata": {
    "execution": {
     "iopub.execute_input": "2024-05-04T14:17:25.252714Z",
     "iopub.status.busy": "2024-05-04T14:17:25.252413Z",
     "iopub.status.idle": "2024-05-04T14:17:25.256771Z",
     "shell.execute_reply": "2024-05-04T14:17:25.255796Z"
    },
    "id": "90a637be",
    "papermill": {
     "duration": 0.04331,
     "end_time": "2024-05-04T14:17:25.258771",
     "exception": false,
     "start_time": "2024-05-04T14:17:25.215461",
     "status": "completed"
    },
    "tags": []
   },
   "outputs": [],
   "source": [
    "max_len = 170"
   ]
  },
  {
   "cell_type": "code",
   "execution_count": null,
   "id": "156dc326",
   "metadata": {
    "colab": {
     "base_uri": "https://localhost:8080/",
     "height": 705
    },
    "execution": {
     "iopub.execute_input": "2024-05-04T14:17:25.332026Z",
     "iopub.status.busy": "2024-05-04T14:17:25.331725Z",
     "iopub.status.idle": "2024-05-04T14:17:26.099297Z",
     "shell.execute_reply": "2024-05-04T14:17:26.098300Z"
    },
    "id": "156dc326",
    "outputId": "498952ca-924d-44d1-a525-6a08e77e2890",
    "papermill": {
     "duration": 0.806854,
     "end_time": "2024-05-04T14:17:26.101309",
     "exception": false,
     "start_time": "2024-05-04T14:17:25.294455",
     "status": "completed"
    },
    "tags": []
   },
   "outputs": [],
   "source": [
    "plt.figure(figsize=(16,10))\n",
    "fig = sns.countplot(x='label',data=df)\n",
    "plt.xticks(rotation=90,)\n",
    "plt.tight_layout()\n",
    "plt.show(fig)\n",
    "plt.close('all')\n",
    "del fig\n",
    "gc.collect();"
   ]
  },
  {
   "cell_type": "markdown",
   "id": "211387dc",
   "metadata": {
    "id": "211387dc",
    "papermill": {
     "duration": 0.03678,
     "end_time": "2024-05-04T14:17:26.175429",
     "exception": false,
     "start_time": "2024-05-04T14:17:26.138649",
     "status": "completed"
    },
    "tags": []
   },
   "source": [
    "The target label classes i.e. the case outcomes are relatively imbalanced so this imbalance in the target labels needs to be accounted during model creation."
   ]
  },
  {
   "cell_type": "markdown",
   "id": "139ad9d9",
   "metadata": {
    "id": "139ad9d9",
    "papermill": {
     "duration": 0.036093,
     "end_time": "2024-05-04T14:17:26.249008",
     "exception": false,
     "start_time": "2024-05-04T14:17:26.212915",
     "status": "completed"
    },
    "tags": []
   },
   "source": [
    "## Text Preprocessing"
   ]
  },
  {
   "cell_type": "code",
   "execution_count": null,
   "id": "2df0b7b9",
   "metadata": {
    "execution": {
     "iopub.execute_input": "2024-05-04T14:17:26.323355Z",
     "iopub.status.busy": "2024-05-04T14:17:26.323009Z",
     "iopub.status.idle": "2024-05-04T14:17:26.330509Z",
     "shell.execute_reply": "2024-05-04T14:17:26.329608Z"
    },
    "id": "2df0b7b9",
    "papermill": {
     "duration": 0.046868,
     "end_time": "2024-05-04T14:17:26.332333",
     "exception": false,
     "start_time": "2024-05-04T14:17:26.285465",
     "status": "completed"
    },
    "tags": []
   },
   "outputs": [],
   "source": [
    "def clean_text(data,col):\n",
    "    data[col] = data[col].apply(func=clean_html)\n",
    "    data[col] = data[col].apply(func=email_address)\n",
    "    data[col] = data[col].apply(func=remove_)\n",
    "    data[col] = data[col].apply(func=remove_digits)\n",
    "    data[col] = data[col].apply(func=remove_links)\n",
    "    data[col] = data[col].apply(func=remove_special_characters)\n",
    "    data[col] = data[col].apply(func=removeStopWords)\n",
    "    data[col] = data[col].apply(func=non_ascii)\n",
    "    data[col] = data[col].apply(func=punct)\n",
    "    data[col] = data[col].apply(func=lower)\n",
    "    return data"
   ]
  },
  {
   "cell_type": "code",
   "execution_count": null,
   "id": "4dfd857b",
   "metadata": {
    "colab": {
     "base_uri": "https://localhost:8080/",
     "height": 206
    },
    "execution": {
     "iopub.execute_input": "2024-05-04T14:17:26.407729Z",
     "iopub.status.busy": "2024-05-04T14:17:26.407448Z",
     "iopub.status.idle": "2024-05-04T14:17:26.550509Z",
     "shell.execute_reply": "2024-05-04T14:17:26.549630Z"
    },
    "id": "4dfd857b",
    "outputId": "b1560cda-9544-4413-c50f-d01de5f15e3f",
    "papermill": {
     "duration": 0.182443,
     "end_time": "2024-05-04T14:17:26.552448",
     "exception": false,
     "start_time": "2024-05-04T14:17:26.370005",
     "status": "completed"
    },
    "tags": []
   },
   "outputs": [],
   "source": [
    "preprocessed_df = clean_text(df,'text')\n",
    "preprocessed_df.head()"
   ]
  },
  {
   "cell_type": "markdown",
   "id": "3557d054",
   "metadata": {
    "id": "3557d054",
    "papermill": {
     "duration": 0.037219,
     "end_time": "2024-05-04T14:17:26.626428",
     "exception": false,
     "start_time": "2024-05-04T14:17:26.589209",
     "status": "completed"
    },
    "tags": []
   },
   "source": [
    "## Encoding the target label classes"
   ]
  },
  {
   "cell_type": "code",
   "execution_count": null,
   "id": "f25b7162",
   "metadata": {
    "execution": {
     "iopub.execute_input": "2024-05-04T14:17:26.702329Z",
     "iopub.status.busy": "2024-05-04T14:17:26.702021Z",
     "iopub.status.idle": "2024-05-04T14:17:26.707121Z",
     "shell.execute_reply": "2024-05-04T14:17:26.706256Z"
    },
    "id": "f25b7162",
    "papermill": {
     "duration": 0.045599,
     "end_time": "2024-05-04T14:17:26.709177",
     "exception": false,
     "start_time": "2024-05-04T14:17:26.663578",
     "status": "completed"
    },
    "tags": []
   },
   "outputs": [],
   "source": [
    "encoder = LabelEncoder()\n",
    "preprocessed_df['label'] = encoder.fit_transform(preprocessed_df['label'])"
   ]
  },
  {
   "cell_type": "code",
   "execution_count": null,
   "id": "a1d96dde",
   "metadata": {
    "colab": {
     "base_uri": "https://localhost:8080/"
    },
    "execution": {
     "iopub.execute_input": "2024-05-04T14:17:26.784035Z",
     "iopub.status.busy": "2024-05-04T14:17:26.783735Z",
     "iopub.status.idle": "2024-05-04T14:17:26.790763Z",
     "shell.execute_reply": "2024-05-04T14:17:26.789936Z"
    },
    "id": "a1d96dde",
    "outputId": "bc4f2161-80bc-449f-c550-3deb50b2f3d2",
    "papermill": {
     "duration": 0.046254,
     "end_time": "2024-05-04T14:17:26.792667",
     "exception": false,
     "start_time": "2024-05-04T14:17:26.746413",
     "status": "completed"
    },
    "tags": []
   },
   "outputs": [],
   "source": [
    "labels_dict = dict()\n",
    "\n",
    "for idx, label in enumerate(encoder.classes_):\n",
    "    labels_dict[idx] = label\n",
    "\n",
    "labels_dict"
   ]
  },
  {
   "cell_type": "markdown",
   "id": "e7fa0314",
   "metadata": {
    "id": "e7fa0314",
    "papermill": {
     "duration": 0.037216,
     "end_time": "2024-05-04T14:17:26.866952",
     "exception": false,
     "start_time": "2024-05-04T14:17:26.829736",
     "status": "completed"
    },
    "tags": []
   },
   "source": [
    "## Splitting the preprocessed dataset into train and test sets"
   ]
  },
  {
   "cell_type": "code",
   "execution_count": null,
   "id": "a056ee00",
   "metadata": {
    "execution": {
     "iopub.execute_input": "2024-05-04T14:17:26.943111Z",
     "iopub.status.busy": "2024-05-04T14:17:26.942501Z",
     "iopub.status.idle": "2024-05-04T14:17:26.950860Z",
     "shell.execute_reply": "2024-05-04T14:17:26.950141Z"
    },
    "id": "a056ee00",
    "papermill": {
     "duration": 0.048366,
     "end_time": "2024-05-04T14:17:26.952694",
     "exception": false,
     "start_time": "2024-05-04T14:17:26.904328",
     "status": "completed"
    },
    "tags": []
   },
   "outputs": [],
   "source": [
    "train_df, test_df = train_test_split(preprocessed_df,test_size=0.3,stratify=preprocessed_df.label,shuffle=True,random_state=101)"
   ]
  },
  {
   "cell_type": "markdown",
   "id": "bb1b264a",
   "metadata": {
    "id": "bb1b264a",
    "papermill": {
     "duration": 0.036733,
     "end_time": "2024-05-04T14:17:27.026289",
     "exception": false,
     "start_time": "2024-05-04T14:17:26.989556",
     "status": "completed"
    },
    "tags": []
   },
   "source": [
    "## Downloading the Tokenizer and the pretrained BERT transformer model"
   ]
  },
  {
   "cell_type": "code",
   "execution_count": null,
   "id": "db7aec63",
   "metadata": {
    "colab": {
     "base_uri": "https://localhost:8080/",
     "height": 302,
     "referenced_widgets": [
      "6245bfea663d4f67b1b0ca6f8e18bca9",
      "b01b77fbed6d48fa89efa5b8a419766d",
      "b2305a61e3ab4a3ba494d9c2bcd6f0a8",
      "ba0e1288ca054e3a946333ed85d2548f",
      "6320dff1076b429998234c90f732ed78",
      "59ee2682d53a4e638edd771413adef81",
      "ec3f3c2a360c48bf9d7b28ad8d8945a6",
      "a2a24c9fc2614c2da4542ecb8d333fc4",
      "3918d3f12d9f4da4b7a7cbc7deebf31f",
      "814c86b4ee8842f2a30f59258c7006be",
      "eeed6c6601b94afd85fe4d174b651b9e",
      "b1ed918268414d68bfac11438d6a2d33",
      "7828857cd14e456d996a69a79621ae46",
      "6af815eac93b4d978162c0d5799e3a76",
      "67d5fb3da59a4ef9b8b9bd715886eb46",
      "10e1678e73a84878b1276c8ebed56db0",
      "4c63e5a53d4a4b9c9a7d828ff08c7479",
      "1c70d30fdd7d4a568f59432859158563",
      "d74c3fda93754a638a41f063fb24521f",
      "b0c6ae9a4a4042f1a2b26e1da4f501ec",
      "63c36e08568949ae937f1dd5397a8831",
      "0a97fbdf92774ae486638c3b3aa0dc76",
      "f60a248ee1a74912a1891dd97a7f39b0",
      "a53d0b30479a4029a91915bf60907e95",
      "ee6a4a013998492fb192951d797b4a12",
      "b04ad7538af54391b647cb033215e782",
      "b0cba0a87ec34837aecf58209c4fc73e",
      "afd5536b560b4613963c2bf8d51349c7",
      "91b140f27b4f406a954b2b5f9d1154c7",
      "514e56368631461f85b0f008ecfba66c",
      "0ec7950d9b1f43a583bd82749aeb17c9",
      "93f247db5f424b5c9c2ea7241075ed4d",
      "38c49a3dd6354342988bdf6fdea741fc",
      "5f12ace0f4b14c36b1c12429db57cf1a",
      "9c7dc0383feb47a795984545e2b8cf59",
      "3be30d000d1f42dea9b9adbb350b9493",
      "7a7112a6baa644a98a9ccc1cc45bbd8a",
      "2c40668444984db9a2e58afc9f885952",
      "d0633a2bd3594e3ea8894b0792614b14",
      "daa5ec52c02248e0987281bc8f649196",
      "05067c87887c4180865fd01089902e5b",
      "6b8ff428ea14447484243d64752da8f7",
      "626a0eb7d3e34a6282cc2ad3c73872b1",
      "af3a8e9cac4548e08660a5771ea0c39e",
      "aeb0128790ba46b49962ccbb84691712",
      "24de9a05aac04ff5bcd67e67537397ea",
      "3846f5b09937462aa0ce1c8aec97a919",
      "ea33cbae1c8f4b898ac95de083225fca",
      "00652cfa06c04ebdb090caa0c0029457",
      "f56f5c651229410486398a2567a32957",
      "b226192974034dcda245d18f7a7b4a64",
      "dffda22d514e4ab3b6b6f773729014a3",
      "c83d13328b3040d4b781641112a94861",
      "c540b296d97c4bceb7e9a65f9ec6a95a",
      "688b56fe5baa47dda18246c6ac679492",
      "f1eadbdd0440460fb01f19e1f4e6345e",
      "73f14487210d4f159f1d9f74baa2f936",
      "97b22c23a7e44a1287d2c74f116eff08",
      "2153d51e79b64e1ba66878e011211582",
      "861a8c6a8a304e619d77afc489fd122d",
      "c53abbe00d45492596d92cc632cea5cf",
      "385476d1abe94b6e8da235f6258d765b",
      "9b273cd9f2ac45f98637409546f8e5cc",
      "f8d0aa7bc3aa483f84d93c204d18bdce",
      "9aae58f05a3848659608e34aeb2852f3",
      "fdf4082c06ba444c9c975674aeece9a8"
     ]
    },
    "execution": {
     "iopub.execute_input": "2024-05-04T14:17:27.101829Z",
     "iopub.status.busy": "2024-05-04T14:17:27.101536Z",
     "iopub.status.idle": "2024-05-04T14:17:32.388202Z",
     "shell.execute_reply": "2024-05-04T14:17:32.387208Z"
    },
    "id": "db7aec63",
    "outputId": "dd48781a-f23c-4ed6-c75a-a02b22d42847",
    "papermill": {
     "duration": 5.326371,
     "end_time": "2024-05-04T14:17:32.390212",
     "exception": false,
     "start_time": "2024-05-04T14:17:27.063841",
     "status": "completed"
    },
    "tags": []
   },
   "outputs": [],
   "source": [
    "tokenizer = AutoTokenizer.from_pretrained('ajtamayoh/Symptoms_to_Diagnosis_SonatafyAI_BERT_v1')\n",
    "bert_model = TFAutoModelForSequenceClassification.from_pretrained('ajtamayoh/Symptoms_to_Diagnosis_SonatafyAI_BERT_v1')"
   ]
  },
  {
   "cell_type": "markdown",
   "id": "bfc842a7",
   "metadata": {
    "id": "bfc842a7",
    "papermill": {
     "duration": 0.037778,
     "end_time": "2024-05-04T14:17:32.467139",
     "exception": false,
     "start_time": "2024-05-04T14:17:32.429361",
     "status": "completed"
    },
    "tags": []
   },
   "source": [
    "## Text Tokenization"
   ]
  },
  {
   "cell_type": "code",
   "execution_count": null,
   "id": "f50e63e9",
   "metadata": {
    "execution": {
     "iopub.execute_input": "2024-05-04T14:17:32.545333Z",
     "iopub.status.busy": "2024-05-04T14:17:32.544622Z",
     "iopub.status.idle": "2024-05-04T14:17:32.594926Z",
     "shell.execute_reply": "2024-05-04T14:17:32.594180Z"
    },
    "id": "f50e63e9",
    "papermill": {
     "duration": 0.091974,
     "end_time": "2024-05-04T14:17:32.597060",
     "exception": false,
     "start_time": "2024-05-04T14:17:32.505086",
     "status": "completed"
    },
    "tags": []
   },
   "outputs": [],
   "source": [
    "X_train = tokenizer(text=train_df.text.tolist(),\n",
    "                   max_length=max_len,\n",
    "                   padding='max_length',\n",
    "                   truncation=True,\n",
    "                   add_special_tokens=True,\n",
    "                   return_attention_mask=True,\n",
    "                   return_tensors='tf',\n",
    "                   return_token_type_ids=False,\n",
    "                   verbose=1)\n",
    "\n",
    "X_test = tokenizer(text=test_df.text.tolist(),\n",
    "                  max_length=max_len,\n",
    "                  padding='max_length',\n",
    "                  truncation=True,\n",
    "                  add_special_tokens=True,\n",
    "                  return_attention_mask=True,\n",
    "                  return_tensors='tf',\n",
    "                  return_token_type_ids=False,\n",
    "                  verbose=1)"
   ]
  },
  {
   "cell_type": "markdown",
   "id": "84b03ce2",
   "metadata": {
    "id": "84b03ce2",
    "papermill": {
     "duration": 0.044161,
     "end_time": "2024-05-04T14:17:32.682238",
     "exception": false,
     "start_time": "2024-05-04T14:17:32.638077",
     "status": "completed"
    },
    "tags": []
   },
   "source": [
    "## Encoding the target labels"
   ]
  },
  {
   "cell_type": "code",
   "execution_count": null,
   "id": "28cdd602",
   "metadata": {
    "colab": {
     "base_uri": "https://localhost:8080/"
    },
    "execution": {
     "iopub.execute_input": "2024-05-04T14:17:32.768375Z",
     "iopub.status.busy": "2024-05-04T14:17:32.767728Z",
     "iopub.status.idle": "2024-05-04T14:17:32.774694Z",
     "shell.execute_reply": "2024-05-04T14:17:32.773905Z"
    },
    "id": "28cdd602",
    "outputId": "e3844142-f300-4dda-9922-8ebc5d15e490",
    "papermill": {
     "duration": 0.049361,
     "end_time": "2024-05-04T14:17:32.776769",
     "exception": false,
     "start_time": "2024-05-04T14:17:32.727408",
     "status": "completed"
    },
    "tags": []
   },
   "outputs": [],
   "source": [
    "y_train = to_categorical(train_df.label)\n",
    "y_train"
   ]
  },
  {
   "cell_type": "code",
   "execution_count": null,
   "id": "489fbaf7",
   "metadata": {
    "colab": {
     "base_uri": "https://localhost:8080/"
    },
    "execution": {
     "iopub.execute_input": "2024-05-04T14:17:32.854497Z",
     "iopub.status.busy": "2024-05-04T14:17:32.854012Z",
     "iopub.status.idle": "2024-05-04T14:17:32.861126Z",
     "shell.execute_reply": "2024-05-04T14:17:32.860133Z"
    },
    "id": "489fbaf7",
    "outputId": "3ba77eb9-60da-4b01-a820-94a6515d3184",
    "papermill": {
     "duration": 0.048265,
     "end_time": "2024-05-04T14:17:32.862972",
     "exception": false,
     "start_time": "2024-05-04T14:17:32.814707",
     "status": "completed"
    },
    "tags": []
   },
   "outputs": [],
   "source": [
    "y_test = to_categorical(test_df.label)\n",
    "y_test"
   ]
  },
  {
   "cell_type": "markdown",
   "id": "cf78f93a",
   "metadata": {
    "id": "cf78f93a",
    "papermill": {
     "duration": 0.037944,
     "end_time": "2024-05-04T14:17:32.939255",
     "exception": false,
     "start_time": "2024-05-04T14:17:32.901311",
     "status": "completed"
    },
    "tags": []
   },
   "source": [
    "## Defining the model architecture"
   ]
  },
  {
   "cell_type": "code",
   "execution_count": null,
   "id": "131e9bf1",
   "metadata": {
    "execution": {
     "iopub.execute_input": "2024-05-04T14:17:33.017719Z",
     "iopub.status.busy": "2024-05-04T14:17:33.017131Z",
     "iopub.status.idle": "2024-05-04T14:17:33.026183Z",
     "shell.execute_reply": "2024-05-04T14:17:33.025213Z"
    },
    "id": "131e9bf1",
    "papermill": {
     "duration": 0.050465,
     "end_time": "2024-05-04T14:17:33.028152",
     "exception": false,
     "start_time": "2024-05-04T14:17:32.977687",
     "status": "completed"
    },
    "tags": []
   },
   "outputs": [],
   "source": [
    "input_ids = Input(shape=(max_len,),dtype=tf.int32,name='input_ids')\n",
    "attention_mask = Input(shape=(max_len,),dtype=tf.int32,name='attention_mask')"
   ]
  },
  {
   "cell_type": "code",
   "execution_count": null,
   "id": "f6b6d417",
   "metadata": {
    "colab": {
     "base_uri": "https://localhost:8080/"
    },
    "execution": {
     "iopub.execute_input": "2024-05-04T14:17:33.107597Z",
     "iopub.status.busy": "2024-05-04T14:17:33.107079Z",
     "iopub.status.idle": "2024-05-04T14:17:39.827476Z",
     "shell.execute_reply": "2024-05-04T14:17:39.826429Z"
    },
    "id": "f6b6d417",
    "outputId": "12da1aef-8e3e-4613-fdb8-78bb8f5b7022",
    "papermill": {
     "duration": 6.763418,
     "end_time": "2024-05-04T14:17:39.830486",
     "exception": false,
     "start_time": "2024-05-04T14:17:33.067068",
     "status": "completed"
    },
    "tags": []
   },
   "outputs": [],
   "source": [
    "embeddings = bert_model(input_ids,attention_mask=attention_mask)[0] # 0 --> final hidden state, 1 --> pooling output\n",
    "output = Flatten()(embeddings)\n",
    "output = Dense(units=128,activation='relu')(output)\n",
    "output = BatchNormalization()(output)\n",
    "output = Dropout(0.2)(output)\n",
    "output = Dense(units=64,activation='relu')(output)\n",
    "output = BatchNormalization()(output)\n",
    "output = Dropout(0.1)(output)\n",
    "output = Dense(units=32,activation='relu')(output)\n",
    "output = Dense(units=24,activation='softmax')(output)\n",
    "\n",
    "model = Model(inputs=[input_ids,attention_mask],outputs=output)\n",
    "model.layers[2].trainable = True\n",
    "model.summary()"
   ]
  },
  {
   "cell_type": "code",
   "execution_count": null,
   "id": "fe853ee7",
   "metadata": {
    "colab": {
     "base_uri": "https://localhost:8080/",
     "height": 1000
    },
    "execution": {
     "iopub.execute_input": "2024-05-04T14:17:39.919276Z",
     "iopub.status.busy": "2024-05-04T14:17:39.918960Z",
     "iopub.status.idle": "2024-05-04T14:17:40.242527Z",
     "shell.execute_reply": "2024-05-04T14:17:40.241632Z"
    },
    "id": "fe853ee7",
    "outputId": "fae2be35-0704-4c8c-9bc4-d8923be2c170",
    "papermill": {
     "duration": 0.372384,
     "end_time": "2024-05-04T14:17:40.246758",
     "exception": false,
     "start_time": "2024-05-04T14:17:39.874374",
     "status": "completed"
    },
    "tags": []
   },
   "outputs": [],
   "source": [
    "plot_model(model,to_file='model.png',show_shapes=True,dpi=100)"
   ]
  },
  {
   "cell_type": "markdown",
   "id": "73cbffbb",
   "metadata": {
    "id": "73cbffbb",
    "papermill": {
     "duration": 0.043173,
     "end_time": "2024-05-04T14:17:40.335013",
     "exception": false,
     "start_time": "2024-05-04T14:17:40.291840",
     "status": "completed"
    },
    "tags": []
   },
   "source": [
    "## Compiling the model"
   ]
  },
  {
   "cell_type": "code",
   "execution_count": null,
   "id": "e045f781",
   "metadata": {
    "execution": {
     "iopub.execute_input": "2024-05-04T14:17:40.425354Z",
     "iopub.status.busy": "2024-05-04T14:17:40.424553Z",
     "iopub.status.idle": "2024-05-04T14:17:40.449618Z",
     "shell.execute_reply": "2024-05-04T14:17:40.448923Z"
    },
    "id": "e045f781",
    "papermill": {
     "duration": 0.071777,
     "end_time": "2024-05-04T14:17:40.451465",
     "exception": false,
     "start_time": "2024-05-04T14:17:40.379688",
     "status": "completed"
    },
    "tags": []
   },
   "outputs": [],
   "source": [
    "adam = Adam(learning_rate=5e-5, epsilon=2e-7, clipnorm=1.0)\n",
    "model.compile(loss=CategoricalCrossentropy(from_logits=True),\n",
    "              optimizer=adam,\n",
    "              metrics=CategoricalAccuracy('balanced_accuracy'))"
   ]
  },
  {
   "cell_type": "markdown",
   "id": "fabb0c60",
   "metadata": {
    "id": "fabb0c60",
    "papermill": {
     "duration": 0.04866,
     "end_time": "2024-05-04T14:17:40.544975",
     "exception": false,
     "start_time": "2024-05-04T14:17:40.496315",
     "status": "completed"
    },
    "tags": []
   },
   "source": [
    "## Training the fine-tuned BERT transformer model"
   ]
  },
  {
   "cell_type": "markdown",
   "id": "4feb9fea",
   "metadata": {
    "id": "4feb9fea",
    "papermill": {
     "duration": 0.177723,
     "end_time": "2024-05-04T21:36:17.635308",
     "exception": false,
     "start_time": "2024-05-04T21:36:17.457585",
     "status": "completed"
    },
    "tags": []
   },
   "source": [
    "## Evaluating model performance on the test set"
   ]
  },
  {
   "cell_type": "code",
   "execution_count": null,
   "id": "faeSbUN6R1NZ",
   "metadata": {
    "colab": {
     "base_uri": "https://localhost:8080/"
    },
    "id": "faeSbUN6R1NZ",
    "outputId": "2f8005d7-e81e-4510-ea35-c9a7c744e855"
   },
   "outputs": [],
   "source": [
    "import numpy as np\n",
    "import pandas as pd\n",
    "from sklearn.model_selection import train_test_split\n",
    "from tensorflow.keras.preprocessing.text import Tokenizer\n",
    "from tensorflow.keras.preprocessing.sequence import pad_sequences\n",
    "from tensorflow.keras.models import Sequential\n",
    "from tensorflow.keras.layers import Embedding, LSTM, Dense, Dropout\n",
    "from tensorflow.keras.utils import to_categorical\n",
    "from tensorflow.keras.callbacks import EarlyStopping, ModelCheckpoint\n",
    "from sklearn.preprocessing import LabelEncoder\n",
    "\n",
    "# Load the data (assuming you have a pandas DataFrame named 'df' with 'text' and 'label' columns)\n",
    "# If your data loading is different, adjust this part accordingly.\n",
    "df = pd.read_csv('Symptom2Disease.csv') # I have created a dummy file with the same data.\n",
    "\n",
    "# Separate text and labels\n",
    "X = df['text']\n",
    "y = df['label']\n",
    "\n",
    "# Preprocess the text data\n",
    "tokenizer = Tokenizer(num_words=10000)  # Limit vocabulary size\n",
    "tokenizer.fit_on_texts(X)\n",
    "X_sequences = tokenizer.texts_to_sequences(X)\n",
    "X_padded = pad_sequences(X_sequences, maxlen=200)  # Pad sequences to a maximum length\n",
    "\n",
    "# Encode the labels\n",
    "label_encoder = LabelEncoder()\n",
    "y_encoded = label_encoder.fit_transform(y)\n",
    "y_categorical = to_categorical(y_encoded)\n",
    "\n",
    "# Split the data into training and testing sets\n",
    "X_train, X_test, y_train, y_test = train_test_split(X_padded, y_categorical, test_size=0.2, random_state=42)\n",
    "\n",
    "# Define the LSTM model\n",
    "model = Sequential()\n",
    "model.add(Embedding(input_dim=10000, output_dim=128, input_length=200))  # Embedding layer\n",
    "model.add(LSTM(128, dropout=0.2, recurrent_dropout=0.2))  # LSTM layer\n",
    "model.add(Dense(y_categorical.shape[1], activation='softmax'))  # Output layer\n",
    "\n",
    "# Compile the model\n",
    "model.compile(optimizer='adam', loss='categorical_crossentropy', metrics=['categorical_accuracy'])\n",
    "\n",
    "# Print model summary to show the architecture\n",
    "print(model.summary())\n",
    "\n",
    "# Set up callbacks\n",
    "es = EarlyStopping(monitor='val_categorical_accuracy', patience=10, verbose=1, mode='max')\n",
    "mc = ModelCheckpoint(filepath='symptoms_disease_classifier_lstm.keras',  #Different name for the file.\n",
    "                     monitor='val_categorical_accuracy', mode='max', save_best_only=True, verbose=1)\n",
    "\n",
    "# Train the model\n",
    "history = model.fit(X_train, y_train,\n",
    "                    epochs=50,  # Reduced number of epochs\n",
    "                    batch_size=32,\n",
    "                    validation_data=(X_test, y_test),\n",
    "                    callbacks=[es, mc])\n",
    "\n",
    "# Evaluate the model on the test set\n",
    "loss, accuracy = model.evaluate(X_test, y_test)\n",
    "print(f\"Test Loss: {loss:.4f}, Test Accuracy: {accuracy:.4f}\")\n",
    "\n",
    "# Load the best model\n",
    "best_model = load_model('symptoms_disease_classifier_lstm.keras')\n",
    "\n",
    "# Make predictions on the test set\n",
    "y_pred = best_model.predict(X_test)\n",
    "y_pred_classes = np.argmax(y_pred, axis=1)\n",
    "y_true_classes = np.argmax(y_test, axis=1)\n",
    "\n",
    "# Generate classification report and confusion matrix\n",
    "from sklearn.metrics import classification_report, confusion_matrix\n",
    "print(\"Classification Report:\")\n",
    "print(classification_report(y_true_classes, y_pred_classes, target_names=label_encoder.classes_))\n",
    "\n",
    "print(\"Confusion Matrix:\")\n",
    "cm = confusion_matrix(y_true_classes, y_pred_classes)\n",
    "print(cm)\n"
   ]
  },
  {
   "cell_type": "code",
   "execution_count": null,
   "id": "c59757b8",
   "metadata": {
    "colab": {
     "base_uri": "https://localhost:8080/",
     "height": 487
    },
    "execution": {
     "iopub.execute_input": "2024-05-04T21:36:17.995371Z",
     "iopub.status.busy": "2024-05-04T21:36:17.994996Z",
     "iopub.status.idle": "2024-05-04T21:36:18.324845Z",
     "shell.execute_reply": "2024-05-04T21:36:18.323916Z"
    },
    "id": "c59757b8",
    "outputId": "bb5608e1-9811-425a-fe3d-e248610afff1",
    "papermill": {
     "duration": 0.51326,
     "end_time": "2024-05-04T21:36:18.326864",
     "exception": false,
     "start_time": "2024-05-04T21:36:17.813604",
     "status": "completed"
    },
    "tags": []
   },
   "outputs": [],
   "source": [
    "import matplotlib.pyplot as plt\n",
    "\n",
    "# Plot the training history\n",
    "plt.figure(figsize=(10, 5))\n",
    "plt.plot(history.history['loss'], 'r', label='train loss')\n",
    "plt.plot(history.history['val_loss'], 'b', label='test loss')\n",
    "plt.xlabel('Number of Epochs')\n",
    "plt.ylabel('Loss')\n",
    "plt.title('Loss Graph')\n",
    "plt.legend()\n",
    "plt.show()"
   ]
  },
  {
   "cell_type": "code",
   "execution_count": null,
   "id": "753ec8ea",
   "metadata": {
    "colab": {
     "base_uri": "https://localhost:8080/",
     "height": 523
    },
    "execution": {
     "iopub.execute_input": "2024-05-04T21:36:18.696817Z",
     "iopub.status.busy": "2024-05-04T21:36:18.696438Z",
     "iopub.status.idle": "2024-05-04T21:36:19.032024Z",
     "shell.execute_reply": "2024-05-04T21:36:19.031048Z"
    },
    "id": "753ec8ea",
    "outputId": "47afb6e9-aedb-4916-884d-29fc1aa20639",
    "papermill": {
     "duration": 0.52132,
     "end_time": "2024-05-04T21:36:19.034429",
     "exception": false,
     "start_time": "2024-05-04T21:36:18.513109",
     "status": "completed"
    },
    "tags": []
   },
   "outputs": [],
   "source": [
    "import matplotlib.pyplot as plt\n",
    "\n",
    "# Plot the training history\n",
    "plt.figure(figsize=(10, 5))\n",
    "plt.plot(history.history['categorical_accuracy'], 'r', label='train balanced accuracy')\n",
    "plt.plot(history.history['val_categorical_accuracy'], 'b', label='test balanced accuracy')\n",
    "plt.xlabel('Number of Epochs')\n",
    "plt.ylabel('Balanced Accuracy')\n",
    "plt.title('Balanced Accuracy Graph')\n",
    "plt.legend()\n",
    "plt.show()\n",
    "\n",
    "# Print the maximum balanced accuracy\n",
    "max_train_accuracy = max(history.history['categorical_accuracy']) * 100\n",
    "max_test_accuracy = max(history.history['val_categorical_accuracy']) * 100\n",
    "print(f\"Maximum Training Balanced Accuracy: {max_train_accuracy:.2f}%\")\n",
    "print(f\"Maximum Testing Balanced Accuracy: {max_test_accuracy:.2f}%\")\n"
   ]
  }
 ],
 "metadata": {
  "colab": {
   "provenance": []
  },
  "kaggle": {
   "accelerator": "none",
   "dataSources": [
    {
     "datasetId": 3087304,
     "sourceId": 5312008,
     "sourceType": "datasetVersion"
    }
   ],
   "dockerImageVersionId": 30698,
   "isGpuEnabled": false,
   "isInternetEnabled": true,
   "language": "python",
   "sourceType": "notebook"
  },
  "kernelspec": {
   "display_name": "Python 3 (ipykernel)",
   "language": "python",
   "name": "python3"
  },
  "language_info": {
   "codemirror_mode": {
    "name": "ipython",
    "version": 3
   },
   "file_extension": ".py",
   "mimetype": "text/x-python",
   "name": "python",
   "nbconvert_exporter": "python",
   "pygments_lexer": "ipython3",
   "version": "3.11.5"
  },
  "papermill": {
   "default_parameters": {},
   "duration": 26528.036789,
   "end_time": "2024-05-04T21:37:56.503803",
   "environment_variables": {},
   "exception": null,
   "input_path": "__notebook__.ipynb",
   "output_path": "__notebook__.ipynb",
   "parameters": {},
   "start_time": "2024-05-04T14:15:48.467014",
   "version": "2.5.0"
  },
  "widgets": {
   "application/vnd.jupyter.widget-state+json": {
    "00652cfa06c04ebdb090caa0c0029457": {
     "model_module": "@jupyter-widgets/base",
     "model_module_version": "1.2.0",
     "model_name": "LayoutModel",
     "state": {
      "_model_module": "@jupyter-widgets/base",
      "_model_module_version": "1.2.0",
      "_model_name": "LayoutModel",
      "_view_count": null,
      "_view_module": "@jupyter-widgets/base",
      "_view_module_version": "1.2.0",
      "_view_name": "LayoutView",
      "align_content": null,
      "align_items": null,
      "align_self": null,
      "border": null,
      "bottom": null,
      "display": null,
      "flex": null,
      "flex_flow": null,
      "grid_area": null,
      "grid_auto_columns": null,
      "grid_auto_flow": null,
      "grid_auto_rows": null,
      "grid_column": null,
      "grid_gap": null,
      "grid_row": null,
      "grid_template_areas": null,
      "grid_template_columns": null,
      "grid_template_rows": null,
      "height": null,
      "justify_content": null,
      "justify_items": null,
      "left": null,
      "margin": null,
      "max_height": null,
      "max_width": null,
      "min_height": null,
      "min_width": null,
      "object_fit": null,
      "object_position": null,
      "order": null,
      "overflow": null,
      "overflow_x": null,
      "overflow_y": null,
      "padding": null,
      "right": null,
      "top": null,
      "visibility": null,
      "width": null
     }
    },
    "05067c87887c4180865fd01089902e5b": {
     "model_module": "@jupyter-widgets/base",
     "model_module_version": "1.2.0",
     "model_name": "LayoutModel",
     "state": {
      "_model_module": "@jupyter-widgets/base",
      "_model_module_version": "1.2.0",
      "_model_name": "LayoutModel",
      "_view_count": null,
      "_view_module": "@jupyter-widgets/base",
      "_view_module_version": "1.2.0",
      "_view_name": "LayoutView",
      "align_content": null,
      "align_items": null,
      "align_self": null,
      "border": null,
      "bottom": null,
      "display": null,
      "flex": null,
      "flex_flow": null,
      "grid_area": null,
      "grid_auto_columns": null,
      "grid_auto_flow": null,
      "grid_auto_rows": null,
      "grid_column": null,
      "grid_gap": null,
      "grid_row": null,
      "grid_template_areas": null,
      "grid_template_columns": null,
      "grid_template_rows": null,
      "height": null,
      "justify_content": null,
      "justify_items": null,
      "left": null,
      "margin": null,
      "max_height": null,
      "max_width": null,
      "min_height": null,
      "min_width": null,
      "object_fit": null,
      "object_position": null,
      "order": null,
      "overflow": null,
      "overflow_x": null,
      "overflow_y": null,
      "padding": null,
      "right": null,
      "top": null,
      "visibility": null,
      "width": null
     }
    },
    "0a97fbdf92774ae486638c3b3aa0dc76": {
     "model_module": "@jupyter-widgets/controls",
     "model_module_version": "1.5.0",
     "model_name": "DescriptionStyleModel",
     "state": {
      "_model_module": "@jupyter-widgets/controls",
      "_model_module_version": "1.5.0",
      "_model_name": "DescriptionStyleModel",
      "_view_count": null,
      "_view_module": "@jupyter-widgets/base",
      "_view_module_version": "1.2.0",
      "_view_name": "StyleView",
      "description_width": ""
     }
    },
    "0ec7950d9b1f43a583bd82749aeb17c9": {
     "model_module": "@jupyter-widgets/controls",
     "model_module_version": "1.5.0",
     "model_name": "ProgressStyleModel",
     "state": {
      "_model_module": "@jupyter-widgets/controls",
      "_model_module_version": "1.5.0",
      "_model_name": "ProgressStyleModel",
      "_view_count": null,
      "_view_module": "@jupyter-widgets/base",
      "_view_module_version": "1.2.0",
      "_view_name": "StyleView",
      "bar_color": null,
      "description_width": ""
     }
    },
    "10e1678e73a84878b1276c8ebed56db0": {
     "model_module": "@jupyter-widgets/base",
     "model_module_version": "1.2.0",
     "model_name": "LayoutModel",
     "state": {
      "_model_module": "@jupyter-widgets/base",
      "_model_module_version": "1.2.0",
      "_model_name": "LayoutModel",
      "_view_count": null,
      "_view_module": "@jupyter-widgets/base",
      "_view_module_version": "1.2.0",
      "_view_name": "LayoutView",
      "align_content": null,
      "align_items": null,
      "align_self": null,
      "border": null,
      "bottom": null,
      "display": null,
      "flex": null,
      "flex_flow": null,
      "grid_area": null,
      "grid_auto_columns": null,
      "grid_auto_flow": null,
      "grid_auto_rows": null,
      "grid_column": null,
      "grid_gap": null,
      "grid_row": null,
      "grid_template_areas": null,
      "grid_template_columns": null,
      "grid_template_rows": null,
      "height": null,
      "justify_content": null,
      "justify_items": null,
      "left": null,
      "margin": null,
      "max_height": null,
      "max_width": null,
      "min_height": null,
      "min_width": null,
      "object_fit": null,
      "object_position": null,
      "order": null,
      "overflow": null,
      "overflow_x": null,
      "overflow_y": null,
      "padding": null,
      "right": null,
      "top": null,
      "visibility": null,
      "width": null
     }
    },
    "1c70d30fdd7d4a568f59432859158563": {
     "model_module": "@jupyter-widgets/controls",
     "model_module_version": "1.5.0",
     "model_name": "DescriptionStyleModel",
     "state": {
      "_model_module": "@jupyter-widgets/controls",
      "_model_module_version": "1.5.0",
      "_model_name": "DescriptionStyleModel",
      "_view_count": null,
      "_view_module": "@jupyter-widgets/base",
      "_view_module_version": "1.2.0",
      "_view_name": "StyleView",
      "description_width": ""
     }
    },
    "2153d51e79b64e1ba66878e011211582": {
     "model_module": "@jupyter-widgets/controls",
     "model_module_version": "1.5.0",
     "model_name": "HTMLModel",
     "state": {
      "_dom_classes": [],
      "_model_module": "@jupyter-widgets/controls",
      "_model_module_version": "1.5.0",
      "_model_name": "HTMLModel",
      "_view_count": null,
      "_view_module": "@jupyter-widgets/controls",
      "_view_module_version": "1.5.0",
      "_view_name": "HTMLView",
      "description": "",
      "description_tooltip": null,
      "layout": "IPY_MODEL_9aae58f05a3848659608e34aeb2852f3",
      "placeholder": "​",
      "style": "IPY_MODEL_fdf4082c06ba444c9c975674aeece9a8",
      "value": " 438M/438M [00:05&lt;00:00, 97.7MB/s]"
     }
    },
    "24de9a05aac04ff5bcd67e67537397ea": {
     "model_module": "@jupyter-widgets/controls",
     "model_module_version": "1.5.0",
     "model_name": "HTMLModel",
     "state": {
      "_dom_classes": [],
      "_model_module": "@jupyter-widgets/controls",
      "_model_module_version": "1.5.0",
      "_model_name": "HTMLModel",
      "_view_count": null,
      "_view_module": "@jupyter-widgets/controls",
      "_view_module_version": "1.5.0",
      "_view_name": "HTMLView",
      "description": "",
      "description_tooltip": null,
      "layout": "IPY_MODEL_f56f5c651229410486398a2567a32957",
      "placeholder": "​",
      "style": "IPY_MODEL_b226192974034dcda245d18f7a7b4a64",
      "value": "config.json: 100%"
     }
    },
    "2c40668444984db9a2e58afc9f885952": {
     "model_module": "@jupyter-widgets/base",
     "model_module_version": "1.2.0",
     "model_name": "LayoutModel",
     "state": {
      "_model_module": "@jupyter-widgets/base",
      "_model_module_version": "1.2.0",
      "_model_name": "LayoutModel",
      "_view_count": null,
      "_view_module": "@jupyter-widgets/base",
      "_view_module_version": "1.2.0",
      "_view_name": "LayoutView",
      "align_content": null,
      "align_items": null,
      "align_self": null,
      "border": null,
      "bottom": null,
      "display": null,
      "flex": null,
      "flex_flow": null,
      "grid_area": null,
      "grid_auto_columns": null,
      "grid_auto_flow": null,
      "grid_auto_rows": null,
      "grid_column": null,
      "grid_gap": null,
      "grid_row": null,
      "grid_template_areas": null,
      "grid_template_columns": null,
      "grid_template_rows": null,
      "height": null,
      "justify_content": null,
      "justify_items": null,
      "left": null,
      "margin": null,
      "max_height": null,
      "max_width": null,
      "min_height": null,
      "min_width": null,
      "object_fit": null,
      "object_position": null,
      "order": null,
      "overflow": null,
      "overflow_x": null,
      "overflow_y": null,
      "padding": null,
      "right": null,
      "top": null,
      "visibility": null,
      "width": null
     }
    },
    "3846f5b09937462aa0ce1c8aec97a919": {
     "model_module": "@jupyter-widgets/controls",
     "model_module_version": "1.5.0",
     "model_name": "FloatProgressModel",
     "state": {
      "_dom_classes": [],
      "_model_module": "@jupyter-widgets/controls",
      "_model_module_version": "1.5.0",
      "_model_name": "FloatProgressModel",
      "_view_count": null,
      "_view_module": "@jupyter-widgets/controls",
      "_view_module_version": "1.5.0",
      "_view_name": "ProgressView",
      "bar_style": "success",
      "description": "",
      "description_tooltip": null,
      "layout": "IPY_MODEL_dffda22d514e4ab3b6b6f773729014a3",
      "max": 1865,
      "min": 0,
      "orientation": "horizontal",
      "style": "IPY_MODEL_c83d13328b3040d4b781641112a94861",
      "value": 1865
     }
    },
    "385476d1abe94b6e8da235f6258d765b": {
     "model_module": "@jupyter-widgets/controls",
     "model_module_version": "1.5.0",
     "model_name": "DescriptionStyleModel",
     "state": {
      "_model_module": "@jupyter-widgets/controls",
      "_model_module_version": "1.5.0",
      "_model_name": "DescriptionStyleModel",
      "_view_count": null,
      "_view_module": "@jupyter-widgets/base",
      "_view_module_version": "1.2.0",
      "_view_name": "StyleView",
      "description_width": ""
     }
    },
    "38c49a3dd6354342988bdf6fdea741fc": {
     "model_module": "@jupyter-widgets/controls",
     "model_module_version": "1.5.0",
     "model_name": "DescriptionStyleModel",
     "state": {
      "_model_module": "@jupyter-widgets/controls",
      "_model_module_version": "1.5.0",
      "_model_name": "DescriptionStyleModel",
      "_view_count": null,
      "_view_module": "@jupyter-widgets/base",
      "_view_module_version": "1.2.0",
      "_view_name": "StyleView",
      "description_width": ""
     }
    },
    "3918d3f12d9f4da4b7a7cbc7deebf31f": {
     "model_module": "@jupyter-widgets/controls",
     "model_module_version": "1.5.0",
     "model_name": "ProgressStyleModel",
     "state": {
      "_model_module": "@jupyter-widgets/controls",
      "_model_module_version": "1.5.0",
      "_model_name": "ProgressStyleModel",
      "_view_count": null,
      "_view_module": "@jupyter-widgets/base",
      "_view_module_version": "1.2.0",
      "_view_name": "StyleView",
      "bar_color": null,
      "description_width": ""
     }
    },
    "3be30d000d1f42dea9b9adbb350b9493": {
     "model_module": "@jupyter-widgets/controls",
     "model_module_version": "1.5.0",
     "model_name": "FloatProgressModel",
     "state": {
      "_dom_classes": [],
      "_model_module": "@jupyter-widgets/controls",
      "_model_module_version": "1.5.0",
      "_model_name": "FloatProgressModel",
      "_view_count": null,
      "_view_module": "@jupyter-widgets/controls",
      "_view_module_version": "1.5.0",
      "_view_name": "ProgressView",
      "bar_style": "success",
      "description": "",
      "description_tooltip": null,
      "layout": "IPY_MODEL_05067c87887c4180865fd01089902e5b",
      "max": 125,
      "min": 0,
      "orientation": "horizontal",
      "style": "IPY_MODEL_6b8ff428ea14447484243d64752da8f7",
      "value": 125
     }
    },
    "4c63e5a53d4a4b9c9a7d828ff08c7479": {
     "model_module": "@jupyter-widgets/base",
     "model_module_version": "1.2.0",
     "model_name": "LayoutModel",
     "state": {
      "_model_module": "@jupyter-widgets/base",
      "_model_module_version": "1.2.0",
      "_model_name": "LayoutModel",
      "_view_count": null,
      "_view_module": "@jupyter-widgets/base",
      "_view_module_version": "1.2.0",
      "_view_name": "LayoutView",
      "align_content": null,
      "align_items": null,
      "align_self": null,
      "border": null,
      "bottom": null,
      "display": null,
      "flex": null,
      "flex_flow": null,
      "grid_area": null,
      "grid_auto_columns": null,
      "grid_auto_flow": null,
      "grid_auto_rows": null,
      "grid_column": null,
      "grid_gap": null,
      "grid_row": null,
      "grid_template_areas": null,
      "grid_template_columns": null,
      "grid_template_rows": null,
      "height": null,
      "justify_content": null,
      "justify_items": null,
      "left": null,
      "margin": null,
      "max_height": null,
      "max_width": null,
      "min_height": null,
      "min_width": null,
      "object_fit": null,
      "object_position": null,
      "order": null,
      "overflow": null,
      "overflow_x": null,
      "overflow_y": null,
      "padding": null,
      "right": null,
      "top": null,
      "visibility": null,
      "width": null
     }
    },
    "514e56368631461f85b0f008ecfba66c": {
     "model_module": "@jupyter-widgets/base",
     "model_module_version": "1.2.0",
     "model_name": "LayoutModel",
     "state": {
      "_model_module": "@jupyter-widgets/base",
      "_model_module_version": "1.2.0",
      "_model_name": "LayoutModel",
      "_view_count": null,
      "_view_module": "@jupyter-widgets/base",
      "_view_module_version": "1.2.0",
      "_view_name": "LayoutView",
      "align_content": null,
      "align_items": null,
      "align_self": null,
      "border": null,
      "bottom": null,
      "display": null,
      "flex": null,
      "flex_flow": null,
      "grid_area": null,
      "grid_auto_columns": null,
      "grid_auto_flow": null,
      "grid_auto_rows": null,
      "grid_column": null,
      "grid_gap": null,
      "grid_row": null,
      "grid_template_areas": null,
      "grid_template_columns": null,
      "grid_template_rows": null,
      "height": null,
      "justify_content": null,
      "justify_items": null,
      "left": null,
      "margin": null,
      "max_height": null,
      "max_width": null,
      "min_height": null,
      "min_width": null,
      "object_fit": null,
      "object_position": null,
      "order": null,
      "overflow": null,
      "overflow_x": null,
      "overflow_y": null,
      "padding": null,
      "right": null,
      "top": null,
      "visibility": null,
      "width": null
     }
    },
    "59ee2682d53a4e638edd771413adef81": {
     "model_module": "@jupyter-widgets/base",
     "model_module_version": "1.2.0",
     "model_name": "LayoutModel",
     "state": {
      "_model_module": "@jupyter-widgets/base",
      "_model_module_version": "1.2.0",
      "_model_name": "LayoutModel",
      "_view_count": null,
      "_view_module": "@jupyter-widgets/base",
      "_view_module_version": "1.2.0",
      "_view_name": "LayoutView",
      "align_content": null,
      "align_items": null,
      "align_self": null,
      "border": null,
      "bottom": null,
      "display": null,
      "flex": null,
      "flex_flow": null,
      "grid_area": null,
      "grid_auto_columns": null,
      "grid_auto_flow": null,
      "grid_auto_rows": null,
      "grid_column": null,
      "grid_gap": null,
      "grid_row": null,
      "grid_template_areas": null,
      "grid_template_columns": null,
      "grid_template_rows": null,
      "height": null,
      "justify_content": null,
      "justify_items": null,
      "left": null,
      "margin": null,
      "max_height": null,
      "max_width": null,
      "min_height": null,
      "min_width": null,
      "object_fit": null,
      "object_position": null,
      "order": null,
      "overflow": null,
      "overflow_x": null,
      "overflow_y": null,
      "padding": null,
      "right": null,
      "top": null,
      "visibility": null,
      "width": null
     }
    },
    "5f12ace0f4b14c36b1c12429db57cf1a": {
     "model_module": "@jupyter-widgets/controls",
     "model_module_version": "1.5.0",
     "model_name": "HBoxModel",
     "state": {
      "_dom_classes": [],
      "_model_module": "@jupyter-widgets/controls",
      "_model_module_version": "1.5.0",
      "_model_name": "HBoxModel",
      "_view_count": null,
      "_view_module": "@jupyter-widgets/controls",
      "_view_module_version": "1.5.0",
      "_view_name": "HBoxView",
      "box_style": "",
      "children": [
       "IPY_MODEL_9c7dc0383feb47a795984545e2b8cf59",
       "IPY_MODEL_3be30d000d1f42dea9b9adbb350b9493",
       "IPY_MODEL_7a7112a6baa644a98a9ccc1cc45bbd8a"
      ],
      "layout": "IPY_MODEL_2c40668444984db9a2e58afc9f885952"
     }
    },
    "6245bfea663d4f67b1b0ca6f8e18bca9": {
     "model_module": "@jupyter-widgets/controls",
     "model_module_version": "1.5.0",
     "model_name": "HBoxModel",
     "state": {
      "_dom_classes": [],
      "_model_module": "@jupyter-widgets/controls",
      "_model_module_version": "1.5.0",
      "_model_name": "HBoxModel",
      "_view_count": null,
      "_view_module": "@jupyter-widgets/controls",
      "_view_module_version": "1.5.0",
      "_view_name": "HBoxView",
      "box_style": "",
      "children": [
       "IPY_MODEL_b01b77fbed6d48fa89efa5b8a419766d",
       "IPY_MODEL_b2305a61e3ab4a3ba494d9c2bcd6f0a8",
       "IPY_MODEL_ba0e1288ca054e3a946333ed85d2548f"
      ],
      "layout": "IPY_MODEL_6320dff1076b429998234c90f732ed78"
     }
    },
    "626a0eb7d3e34a6282cc2ad3c73872b1": {
     "model_module": "@jupyter-widgets/base",
     "model_module_version": "1.2.0",
     "model_name": "LayoutModel",
     "state": {
      "_model_module": "@jupyter-widgets/base",
      "_model_module_version": "1.2.0",
      "_model_name": "LayoutModel",
      "_view_count": null,
      "_view_module": "@jupyter-widgets/base",
      "_view_module_version": "1.2.0",
      "_view_name": "LayoutView",
      "align_content": null,
      "align_items": null,
      "align_self": null,
      "border": null,
      "bottom": null,
      "display": null,
      "flex": null,
      "flex_flow": null,
      "grid_area": null,
      "grid_auto_columns": null,
      "grid_auto_flow": null,
      "grid_auto_rows": null,
      "grid_column": null,
      "grid_gap": null,
      "grid_row": null,
      "grid_template_areas": null,
      "grid_template_columns": null,
      "grid_template_rows": null,
      "height": null,
      "justify_content": null,
      "justify_items": null,
      "left": null,
      "margin": null,
      "max_height": null,
      "max_width": null,
      "min_height": null,
      "min_width": null,
      "object_fit": null,
      "object_position": null,
      "order": null,
      "overflow": null,
      "overflow_x": null,
      "overflow_y": null,
      "padding": null,
      "right": null,
      "top": null,
      "visibility": null,
      "width": null
     }
    },
    "6320dff1076b429998234c90f732ed78": {
     "model_module": "@jupyter-widgets/base",
     "model_module_version": "1.2.0",
     "model_name": "LayoutModel",
     "state": {
      "_model_module": "@jupyter-widgets/base",
      "_model_module_version": "1.2.0",
      "_model_name": "LayoutModel",
      "_view_count": null,
      "_view_module": "@jupyter-widgets/base",
      "_view_module_version": "1.2.0",
      "_view_name": "LayoutView",
      "align_content": null,
      "align_items": null,
      "align_self": null,
      "border": null,
      "bottom": null,
      "display": null,
      "flex": null,
      "flex_flow": null,
      "grid_area": null,
      "grid_auto_columns": null,
      "grid_auto_flow": null,
      "grid_auto_rows": null,
      "grid_column": null,
      "grid_gap": null,
      "grid_row": null,
      "grid_template_areas": null,
      "grid_template_columns": null,
      "grid_template_rows": null,
      "height": null,
      "justify_content": null,
      "justify_items": null,
      "left": null,
      "margin": null,
      "max_height": null,
      "max_width": null,
      "min_height": null,
      "min_width": null,
      "object_fit": null,
      "object_position": null,
      "order": null,
      "overflow": null,
      "overflow_x": null,
      "overflow_y": null,
      "padding": null,
      "right": null,
      "top": null,
      "visibility": null,
      "width": null
     }
    },
    "63c36e08568949ae937f1dd5397a8831": {
     "model_module": "@jupyter-widgets/base",
     "model_module_version": "1.2.0",
     "model_name": "LayoutModel",
     "state": {
      "_model_module": "@jupyter-widgets/base",
      "_model_module_version": "1.2.0",
      "_model_name": "LayoutModel",
      "_view_count": null,
      "_view_module": "@jupyter-widgets/base",
      "_view_module_version": "1.2.0",
      "_view_name": "LayoutView",
      "align_content": null,
      "align_items": null,
      "align_self": null,
      "border": null,
      "bottom": null,
      "display": null,
      "flex": null,
      "flex_flow": null,
      "grid_area": null,
      "grid_auto_columns": null,
      "grid_auto_flow": null,
      "grid_auto_rows": null,
      "grid_column": null,
      "grid_gap": null,
      "grid_row": null,
      "grid_template_areas": null,
      "grid_template_columns": null,
      "grid_template_rows": null,
      "height": null,
      "justify_content": null,
      "justify_items": null,
      "left": null,
      "margin": null,
      "max_height": null,
      "max_width": null,
      "min_height": null,
      "min_width": null,
      "object_fit": null,
      "object_position": null,
      "order": null,
      "overflow": null,
      "overflow_x": null,
      "overflow_y": null,
      "padding": null,
      "right": null,
      "top": null,
      "visibility": null,
      "width": null
     }
    },
    "67d5fb3da59a4ef9b8b9bd715886eb46": {
     "model_module": "@jupyter-widgets/controls",
     "model_module_version": "1.5.0",
     "model_name": "HTMLModel",
     "state": {
      "_dom_classes": [],
      "_model_module": "@jupyter-widgets/controls",
      "_model_module_version": "1.5.0",
      "_model_name": "HTMLModel",
      "_view_count": null,
      "_view_module": "@jupyter-widgets/controls",
      "_view_module_version": "1.5.0",
      "_view_name": "HTMLView",
      "description": "",
      "description_tooltip": null,
      "layout": "IPY_MODEL_63c36e08568949ae937f1dd5397a8831",
      "placeholder": "​",
      "style": "IPY_MODEL_0a97fbdf92774ae486638c3b3aa0dc76",
      "value": " 232k/232k [00:00&lt;00:00, 2.41MB/s]"
     }
    },
    "688b56fe5baa47dda18246c6ac679492": {
     "model_module": "@jupyter-widgets/controls",
     "model_module_version": "1.5.0",
     "model_name": "DescriptionStyleModel",
     "state": {
      "_model_module": "@jupyter-widgets/controls",
      "_model_module_version": "1.5.0",
      "_model_name": "DescriptionStyleModel",
      "_view_count": null,
      "_view_module": "@jupyter-widgets/base",
      "_view_module_version": "1.2.0",
      "_view_name": "StyleView",
      "description_width": ""
     }
    },
    "6af815eac93b4d978162c0d5799e3a76": {
     "model_module": "@jupyter-widgets/controls",
     "model_module_version": "1.5.0",
     "model_name": "FloatProgressModel",
     "state": {
      "_dom_classes": [],
      "_model_module": "@jupyter-widgets/controls",
      "_model_module_version": "1.5.0",
      "_model_name": "FloatProgressModel",
      "_view_count": null,
      "_view_module": "@jupyter-widgets/controls",
      "_view_module_version": "1.5.0",
      "_view_name": "ProgressView",
      "bar_style": "success",
      "description": "",
      "description_tooltip": null,
      "layout": "IPY_MODEL_d74c3fda93754a638a41f063fb24521f",
      "max": 231508,
      "min": 0,
      "orientation": "horizontal",
      "style": "IPY_MODEL_b0c6ae9a4a4042f1a2b26e1da4f501ec",
      "value": 231508
     }
    },
    "6b8ff428ea14447484243d64752da8f7": {
     "model_module": "@jupyter-widgets/controls",
     "model_module_version": "1.5.0",
     "model_name": "ProgressStyleModel",
     "state": {
      "_model_module": "@jupyter-widgets/controls",
      "_model_module_version": "1.5.0",
      "_model_name": "ProgressStyleModel",
      "_view_count": null,
      "_view_module": "@jupyter-widgets/base",
      "_view_module_version": "1.2.0",
      "_view_name": "StyleView",
      "bar_color": null,
      "description_width": ""
     }
    },
    "73f14487210d4f159f1d9f74baa2f936": {
     "model_module": "@jupyter-widgets/controls",
     "model_module_version": "1.5.0",
     "model_name": "HTMLModel",
     "state": {
      "_dom_classes": [],
      "_model_module": "@jupyter-widgets/controls",
      "_model_module_version": "1.5.0",
      "_model_name": "HTMLModel",
      "_view_count": null,
      "_view_module": "@jupyter-widgets/controls",
      "_view_module_version": "1.5.0",
      "_view_name": "HTMLView",
      "description": "",
      "description_tooltip": null,
      "layout": "IPY_MODEL_c53abbe00d45492596d92cc632cea5cf",
      "placeholder": "​",
      "style": "IPY_MODEL_385476d1abe94b6e8da235f6258d765b",
      "value": "model.safetensors: 100%"
     }
    },
    "7828857cd14e456d996a69a79621ae46": {
     "model_module": "@jupyter-widgets/controls",
     "model_module_version": "1.5.0",
     "model_name": "HTMLModel",
     "state": {
      "_dom_classes": [],
      "_model_module": "@jupyter-widgets/controls",
      "_model_module_version": "1.5.0",
      "_model_name": "HTMLModel",
      "_view_count": null,
      "_view_module": "@jupyter-widgets/controls",
      "_view_module_version": "1.5.0",
      "_view_name": "HTMLView",
      "description": "",
      "description_tooltip": null,
      "layout": "IPY_MODEL_4c63e5a53d4a4b9c9a7d828ff08c7479",
      "placeholder": "​",
      "style": "IPY_MODEL_1c70d30fdd7d4a568f59432859158563",
      "value": "vocab.txt: 100%"
     }
    },
    "7a7112a6baa644a98a9ccc1cc45bbd8a": {
     "model_module": "@jupyter-widgets/controls",
     "model_module_version": "1.5.0",
     "model_name": "HTMLModel",
     "state": {
      "_dom_classes": [],
      "_model_module": "@jupyter-widgets/controls",
      "_model_module_version": "1.5.0",
      "_model_name": "HTMLModel",
      "_view_count": null,
      "_view_module": "@jupyter-widgets/controls",
      "_view_module_version": "1.5.0",
      "_view_name": "HTMLView",
      "description": "",
      "description_tooltip": null,
      "layout": "IPY_MODEL_626a0eb7d3e34a6282cc2ad3c73872b1",
      "placeholder": "​",
      "style": "IPY_MODEL_af3a8e9cac4548e08660a5771ea0c39e",
      "value": " 125/125 [00:00&lt;00:00, 4.38kB/s]"
     }
    },
    "814c86b4ee8842f2a30f59258c7006be": {
     "model_module": "@jupyter-widgets/base",
     "model_module_version": "1.2.0",
     "model_name": "LayoutModel",
     "state": {
      "_model_module": "@jupyter-widgets/base",
      "_model_module_version": "1.2.0",
      "_model_name": "LayoutModel",
      "_view_count": null,
      "_view_module": "@jupyter-widgets/base",
      "_view_module_version": "1.2.0",
      "_view_name": "LayoutView",
      "align_content": null,
      "align_items": null,
      "align_self": null,
      "border": null,
      "bottom": null,
      "display": null,
      "flex": null,
      "flex_flow": null,
      "grid_area": null,
      "grid_auto_columns": null,
      "grid_auto_flow": null,
      "grid_auto_rows": null,
      "grid_column": null,
      "grid_gap": null,
      "grid_row": null,
      "grid_template_areas": null,
      "grid_template_columns": null,
      "grid_template_rows": null,
      "height": null,
      "justify_content": null,
      "justify_items": null,
      "left": null,
      "margin": null,
      "max_height": null,
      "max_width": null,
      "min_height": null,
      "min_width": null,
      "object_fit": null,
      "object_position": null,
      "order": null,
      "overflow": null,
      "overflow_x": null,
      "overflow_y": null,
      "padding": null,
      "right": null,
      "top": null,
      "visibility": null,
      "width": null
     }
    },
    "861a8c6a8a304e619d77afc489fd122d": {
     "model_module": "@jupyter-widgets/base",
     "model_module_version": "1.2.0",
     "model_name": "LayoutModel",
     "state": {
      "_model_module": "@jupyter-widgets/base",
      "_model_module_version": "1.2.0",
      "_model_name": "LayoutModel",
      "_view_count": null,
      "_view_module": "@jupyter-widgets/base",
      "_view_module_version": "1.2.0",
      "_view_name": "LayoutView",
      "align_content": null,
      "align_items": null,
      "align_self": null,
      "border": null,
      "bottom": null,
      "display": null,
      "flex": null,
      "flex_flow": null,
      "grid_area": null,
      "grid_auto_columns": null,
      "grid_auto_flow": null,
      "grid_auto_rows": null,
      "grid_column": null,
      "grid_gap": null,
      "grid_row": null,
      "grid_template_areas": null,
      "grid_template_columns": null,
      "grid_template_rows": null,
      "height": null,
      "justify_content": null,
      "justify_items": null,
      "left": null,
      "margin": null,
      "max_height": null,
      "max_width": null,
      "min_height": null,
      "min_width": null,
      "object_fit": null,
      "object_position": null,
      "order": null,
      "overflow": null,
      "overflow_x": null,
      "overflow_y": null,
      "padding": null,
      "right": null,
      "top": null,
      "visibility": null,
      "width": null
     }
    },
    "91b140f27b4f406a954b2b5f9d1154c7": {
     "model_module": "@jupyter-widgets/controls",
     "model_module_version": "1.5.0",
     "model_name": "DescriptionStyleModel",
     "state": {
      "_model_module": "@jupyter-widgets/controls",
      "_model_module_version": "1.5.0",
      "_model_name": "DescriptionStyleModel",
      "_view_count": null,
      "_view_module": "@jupyter-widgets/base",
      "_view_module_version": "1.2.0",
      "_view_name": "StyleView",
      "description_width": ""
     }
    },
    "93f247db5f424b5c9c2ea7241075ed4d": {
     "model_module": "@jupyter-widgets/base",
     "model_module_version": "1.2.0",
     "model_name": "LayoutModel",
     "state": {
      "_model_module": "@jupyter-widgets/base",
      "_model_module_version": "1.2.0",
      "_model_name": "LayoutModel",
      "_view_count": null,
      "_view_module": "@jupyter-widgets/base",
      "_view_module_version": "1.2.0",
      "_view_name": "LayoutView",
      "align_content": null,
      "align_items": null,
      "align_self": null,
      "border": null,
      "bottom": null,
      "display": null,
      "flex": null,
      "flex_flow": null,
      "grid_area": null,
      "grid_auto_columns": null,
      "grid_auto_flow": null,
      "grid_auto_rows": null,
      "grid_column": null,
      "grid_gap": null,
      "grid_row": null,
      "grid_template_areas": null,
      "grid_template_columns": null,
      "grid_template_rows": null,
      "height": null,
      "justify_content": null,
      "justify_items": null,
      "left": null,
      "margin": null,
      "max_height": null,
      "max_width": null,
      "min_height": null,
      "min_width": null,
      "object_fit": null,
      "object_position": null,
      "order": null,
      "overflow": null,
      "overflow_x": null,
      "overflow_y": null,
      "padding": null,
      "right": null,
      "top": null,
      "visibility": null,
      "width": null
     }
    },
    "97b22c23a7e44a1287d2c74f116eff08": {
     "model_module": "@jupyter-widgets/controls",
     "model_module_version": "1.5.0",
     "model_name": "FloatProgressModel",
     "state": {
      "_dom_classes": [],
      "_model_module": "@jupyter-widgets/controls",
      "_model_module_version": "1.5.0",
      "_model_name": "FloatProgressModel",
      "_view_count": null,
      "_view_module": "@jupyter-widgets/controls",
      "_view_module_version": "1.5.0",
      "_view_name": "ProgressView",
      "bar_style": "success",
      "description": "",
      "description_tooltip": null,
      "layout": "IPY_MODEL_9b273cd9f2ac45f98637409546f8e5cc",
      "max": 438020168,
      "min": 0,
      "orientation": "horizontal",
      "style": "IPY_MODEL_f8d0aa7bc3aa483f84d93c204d18bdce",
      "value": 438020168
     }
    },
    "9aae58f05a3848659608e34aeb2852f3": {
     "model_module": "@jupyter-widgets/base",
     "model_module_version": "1.2.0",
     "model_name": "LayoutModel",
     "state": {
      "_model_module": "@jupyter-widgets/base",
      "_model_module_version": "1.2.0",
      "_model_name": "LayoutModel",
      "_view_count": null,
      "_view_module": "@jupyter-widgets/base",
      "_view_module_version": "1.2.0",
      "_view_name": "LayoutView",
      "align_content": null,
      "align_items": null,
      "align_self": null,
      "border": null,
      "bottom": null,
      "display": null,
      "flex": null,
      "flex_flow": null,
      "grid_area": null,
      "grid_auto_columns": null,
      "grid_auto_flow": null,
      "grid_auto_rows": null,
      "grid_column": null,
      "grid_gap": null,
      "grid_row": null,
      "grid_template_areas": null,
      "grid_template_columns": null,
      "grid_template_rows": null,
      "height": null,
      "justify_content": null,
      "justify_items": null,
      "left": null,
      "margin": null,
      "max_height": null,
      "max_width": null,
      "min_height": null,
      "min_width": null,
      "object_fit": null,
      "object_position": null,
      "order": null,
      "overflow": null,
      "overflow_x": null,
      "overflow_y": null,
      "padding": null,
      "right": null,
      "top": null,
      "visibility": null,
      "width": null
     }
    },
    "9b273cd9f2ac45f98637409546f8e5cc": {
     "model_module": "@jupyter-widgets/base",
     "model_module_version": "1.2.0",
     "model_name": "LayoutModel",
     "state": {
      "_model_module": "@jupyter-widgets/base",
      "_model_module_version": "1.2.0",
      "_model_name": "LayoutModel",
      "_view_count": null,
      "_view_module": "@jupyter-widgets/base",
      "_view_module_version": "1.2.0",
      "_view_name": "LayoutView",
      "align_content": null,
      "align_items": null,
      "align_self": null,
      "border": null,
      "bottom": null,
      "display": null,
      "flex": null,
      "flex_flow": null,
      "grid_area": null,
      "grid_auto_columns": null,
      "grid_auto_flow": null,
      "grid_auto_rows": null,
      "grid_column": null,
      "grid_gap": null,
      "grid_row": null,
      "grid_template_areas": null,
      "grid_template_columns": null,
      "grid_template_rows": null,
      "height": null,
      "justify_content": null,
      "justify_items": null,
      "left": null,
      "margin": null,
      "max_height": null,
      "max_width": null,
      "min_height": null,
      "min_width": null,
      "object_fit": null,
      "object_position": null,
      "order": null,
      "overflow": null,
      "overflow_x": null,
      "overflow_y": null,
      "padding": null,
      "right": null,
      "top": null,
      "visibility": null,
      "width": null
     }
    },
    "9c7dc0383feb47a795984545e2b8cf59": {
     "model_module": "@jupyter-widgets/controls",
     "model_module_version": "1.5.0",
     "model_name": "HTMLModel",
     "state": {
      "_dom_classes": [],
      "_model_module": "@jupyter-widgets/controls",
      "_model_module_version": "1.5.0",
      "_model_name": "HTMLModel",
      "_view_count": null,
      "_view_module": "@jupyter-widgets/controls",
      "_view_module_version": "1.5.0",
      "_view_name": "HTMLView",
      "description": "",
      "description_tooltip": null,
      "layout": "IPY_MODEL_d0633a2bd3594e3ea8894b0792614b14",
      "placeholder": "​",
      "style": "IPY_MODEL_daa5ec52c02248e0987281bc8f649196",
      "value": "special_tokens_map.json: 100%"
     }
    },
    "a2a24c9fc2614c2da4542ecb8d333fc4": {
     "model_module": "@jupyter-widgets/base",
     "model_module_version": "1.2.0",
     "model_name": "LayoutModel",
     "state": {
      "_model_module": "@jupyter-widgets/base",
      "_model_module_version": "1.2.0",
      "_model_name": "LayoutModel",
      "_view_count": null,
      "_view_module": "@jupyter-widgets/base",
      "_view_module_version": "1.2.0",
      "_view_name": "LayoutView",
      "align_content": null,
      "align_items": null,
      "align_self": null,
      "border": null,
      "bottom": null,
      "display": null,
      "flex": null,
      "flex_flow": null,
      "grid_area": null,
      "grid_auto_columns": null,
      "grid_auto_flow": null,
      "grid_auto_rows": null,
      "grid_column": null,
      "grid_gap": null,
      "grid_row": null,
      "grid_template_areas": null,
      "grid_template_columns": null,
      "grid_template_rows": null,
      "height": null,
      "justify_content": null,
      "justify_items": null,
      "left": null,
      "margin": null,
      "max_height": null,
      "max_width": null,
      "min_height": null,
      "min_width": null,
      "object_fit": null,
      "object_position": null,
      "order": null,
      "overflow": null,
      "overflow_x": null,
      "overflow_y": null,
      "padding": null,
      "right": null,
      "top": null,
      "visibility": null,
      "width": null
     }
    },
    "a53d0b30479a4029a91915bf60907e95": {
     "model_module": "@jupyter-widgets/controls",
     "model_module_version": "1.5.0",
     "model_name": "HTMLModel",
     "state": {
      "_dom_classes": [],
      "_model_module": "@jupyter-widgets/controls",
      "_model_module_version": "1.5.0",
      "_model_name": "HTMLModel",
      "_view_count": null,
      "_view_module": "@jupyter-widgets/controls",
      "_view_module_version": "1.5.0",
      "_view_name": "HTMLView",
      "description": "",
      "description_tooltip": null,
      "layout": "IPY_MODEL_afd5536b560b4613963c2bf8d51349c7",
      "placeholder": "​",
      "style": "IPY_MODEL_91b140f27b4f406a954b2b5f9d1154c7",
      "value": "tokenizer.json: 100%"
     }
    },
    "aeb0128790ba46b49962ccbb84691712": {
     "model_module": "@jupyter-widgets/controls",
     "model_module_version": "1.5.0",
     "model_name": "HBoxModel",
     "state": {
      "_dom_classes": [],
      "_model_module": "@jupyter-widgets/controls",
      "_model_module_version": "1.5.0",
      "_model_name": "HBoxModel",
      "_view_count": null,
      "_view_module": "@jupyter-widgets/controls",
      "_view_module_version": "1.5.0",
      "_view_name": "HBoxView",
      "box_style": "",
      "children": [
       "IPY_MODEL_24de9a05aac04ff5bcd67e67537397ea",
       "IPY_MODEL_3846f5b09937462aa0ce1c8aec97a919",
       "IPY_MODEL_ea33cbae1c8f4b898ac95de083225fca"
      ],
      "layout": "IPY_MODEL_00652cfa06c04ebdb090caa0c0029457"
     }
    },
    "af3a8e9cac4548e08660a5771ea0c39e": {
     "model_module": "@jupyter-widgets/controls",
     "model_module_version": "1.5.0",
     "model_name": "DescriptionStyleModel",
     "state": {
      "_model_module": "@jupyter-widgets/controls",
      "_model_module_version": "1.5.0",
      "_model_name": "DescriptionStyleModel",
      "_view_count": null,
      "_view_module": "@jupyter-widgets/base",
      "_view_module_version": "1.2.0",
      "_view_name": "StyleView",
      "description_width": ""
     }
    },
    "afd5536b560b4613963c2bf8d51349c7": {
     "model_module": "@jupyter-widgets/base",
     "model_module_version": "1.2.0",
     "model_name": "LayoutModel",
     "state": {
      "_model_module": "@jupyter-widgets/base",
      "_model_module_version": "1.2.0",
      "_model_name": "LayoutModel",
      "_view_count": null,
      "_view_module": "@jupyter-widgets/base",
      "_view_module_version": "1.2.0",
      "_view_name": "LayoutView",
      "align_content": null,
      "align_items": null,
      "align_self": null,
      "border": null,
      "bottom": null,
      "display": null,
      "flex": null,
      "flex_flow": null,
      "grid_area": null,
      "grid_auto_columns": null,
      "grid_auto_flow": null,
      "grid_auto_rows": null,
      "grid_column": null,
      "grid_gap": null,
      "grid_row": null,
      "grid_template_areas": null,
      "grid_template_columns": null,
      "grid_template_rows": null,
      "height": null,
      "justify_content": null,
      "justify_items": null,
      "left": null,
      "margin": null,
      "max_height": null,
      "max_width": null,
      "min_height": null,
      "min_width": null,
      "object_fit": null,
      "object_position": null,
      "order": null,
      "overflow": null,
      "overflow_x": null,
      "overflow_y": null,
      "padding": null,
      "right": null,
      "top": null,
      "visibility": null,
      "width": null
     }
    },
    "b01b77fbed6d48fa89efa5b8a419766d": {
     "model_module": "@jupyter-widgets/controls",
     "model_module_version": "1.5.0",
     "model_name": "HTMLModel",
     "state": {
      "_dom_classes": [],
      "_model_module": "@jupyter-widgets/controls",
      "_model_module_version": "1.5.0",
      "_model_name": "HTMLModel",
      "_view_count": null,
      "_view_module": "@jupyter-widgets/controls",
      "_view_module_version": "1.5.0",
      "_view_name": "HTMLView",
      "description": "",
      "description_tooltip": null,
      "layout": "IPY_MODEL_59ee2682d53a4e638edd771413adef81",
      "placeholder": "​",
      "style": "IPY_MODEL_ec3f3c2a360c48bf9d7b28ad8d8945a6",
      "value": "tokenizer_config.json: 100%"
     }
    },
    "b04ad7538af54391b647cb033215e782": {
     "model_module": "@jupyter-widgets/controls",
     "model_module_version": "1.5.0",
     "model_name": "HTMLModel",
     "state": {
      "_dom_classes": [],
      "_model_module": "@jupyter-widgets/controls",
      "_model_module_version": "1.5.0",
      "_model_name": "HTMLModel",
      "_view_count": null,
      "_view_module": "@jupyter-widgets/controls",
      "_view_module_version": "1.5.0",
      "_view_name": "HTMLView",
      "description": "",
      "description_tooltip": null,
      "layout": "IPY_MODEL_93f247db5f424b5c9c2ea7241075ed4d",
      "placeholder": "​",
      "style": "IPY_MODEL_38c49a3dd6354342988bdf6fdea741fc",
      "value": " 711k/711k [00:00&lt;00:00, 5.64MB/s]"
     }
    },
    "b0c6ae9a4a4042f1a2b26e1da4f501ec": {
     "model_module": "@jupyter-widgets/controls",
     "model_module_version": "1.5.0",
     "model_name": "ProgressStyleModel",
     "state": {
      "_model_module": "@jupyter-widgets/controls",
      "_model_module_version": "1.5.0",
      "_model_name": "ProgressStyleModel",
      "_view_count": null,
      "_view_module": "@jupyter-widgets/base",
      "_view_module_version": "1.2.0",
      "_view_name": "StyleView",
      "bar_color": null,
      "description_width": ""
     }
    },
    "b0cba0a87ec34837aecf58209c4fc73e": {
     "model_module": "@jupyter-widgets/base",
     "model_module_version": "1.2.0",
     "model_name": "LayoutModel",
     "state": {
      "_model_module": "@jupyter-widgets/base",
      "_model_module_version": "1.2.0",
      "_model_name": "LayoutModel",
      "_view_count": null,
      "_view_module": "@jupyter-widgets/base",
      "_view_module_version": "1.2.0",
      "_view_name": "LayoutView",
      "align_content": null,
      "align_items": null,
      "align_self": null,
      "border": null,
      "bottom": null,
      "display": null,
      "flex": null,
      "flex_flow": null,
      "grid_area": null,
      "grid_auto_columns": null,
      "grid_auto_flow": null,
      "grid_auto_rows": null,
      "grid_column": null,
      "grid_gap": null,
      "grid_row": null,
      "grid_template_areas": null,
      "grid_template_columns": null,
      "grid_template_rows": null,
      "height": null,
      "justify_content": null,
      "justify_items": null,
      "left": null,
      "margin": null,
      "max_height": null,
      "max_width": null,
      "min_height": null,
      "min_width": null,
      "object_fit": null,
      "object_position": null,
      "order": null,
      "overflow": null,
      "overflow_x": null,
      "overflow_y": null,
      "padding": null,
      "right": null,
      "top": null,
      "visibility": null,
      "width": null
     }
    },
    "b1ed918268414d68bfac11438d6a2d33": {
     "model_module": "@jupyter-widgets/controls",
     "model_module_version": "1.5.0",
     "model_name": "HBoxModel",
     "state": {
      "_dom_classes": [],
      "_model_module": "@jupyter-widgets/controls",
      "_model_module_version": "1.5.0",
      "_model_name": "HBoxModel",
      "_view_count": null,
      "_view_module": "@jupyter-widgets/controls",
      "_view_module_version": "1.5.0",
      "_view_name": "HBoxView",
      "box_style": "",
      "children": [
       "IPY_MODEL_7828857cd14e456d996a69a79621ae46",
       "IPY_MODEL_6af815eac93b4d978162c0d5799e3a76",
       "IPY_MODEL_67d5fb3da59a4ef9b8b9bd715886eb46"
      ],
      "layout": "IPY_MODEL_10e1678e73a84878b1276c8ebed56db0"
     }
    },
    "b226192974034dcda245d18f7a7b4a64": {
     "model_module": "@jupyter-widgets/controls",
     "model_module_version": "1.5.0",
     "model_name": "DescriptionStyleModel",
     "state": {
      "_model_module": "@jupyter-widgets/controls",
      "_model_module_version": "1.5.0",
      "_model_name": "DescriptionStyleModel",
      "_view_count": null,
      "_view_module": "@jupyter-widgets/base",
      "_view_module_version": "1.2.0",
      "_view_name": "StyleView",
      "description_width": ""
     }
    },
    "b2305a61e3ab4a3ba494d9c2bcd6f0a8": {
     "model_module": "@jupyter-widgets/controls",
     "model_module_version": "1.5.0",
     "model_name": "FloatProgressModel",
     "state": {
      "_dom_classes": [],
      "_model_module": "@jupyter-widgets/controls",
      "_model_module_version": "1.5.0",
      "_model_name": "FloatProgressModel",
      "_view_count": null,
      "_view_module": "@jupyter-widgets/controls",
      "_view_module_version": "1.5.0",
      "_view_name": "ProgressView",
      "bar_style": "success",
      "description": "",
      "description_tooltip": null,
      "layout": "IPY_MODEL_a2a24c9fc2614c2da4542ecb8d333fc4",
      "max": 1190,
      "min": 0,
      "orientation": "horizontal",
      "style": "IPY_MODEL_3918d3f12d9f4da4b7a7cbc7deebf31f",
      "value": 1190
     }
    },
    "ba0e1288ca054e3a946333ed85d2548f": {
     "model_module": "@jupyter-widgets/controls",
     "model_module_version": "1.5.0",
     "model_name": "HTMLModel",
     "state": {
      "_dom_classes": [],
      "_model_module": "@jupyter-widgets/controls",
      "_model_module_version": "1.5.0",
      "_model_name": "HTMLModel",
      "_view_count": null,
      "_view_module": "@jupyter-widgets/controls",
      "_view_module_version": "1.5.0",
      "_view_name": "HTMLView",
      "description": "",
      "description_tooltip": null,
      "layout": "IPY_MODEL_814c86b4ee8842f2a30f59258c7006be",
      "placeholder": "​",
      "style": "IPY_MODEL_eeed6c6601b94afd85fe4d174b651b9e",
      "value": " 1.19k/1.19k [00:00&lt;00:00, 47.5kB/s]"
     }
    },
    "c53abbe00d45492596d92cc632cea5cf": {
     "model_module": "@jupyter-widgets/base",
     "model_module_version": "1.2.0",
     "model_name": "LayoutModel",
     "state": {
      "_model_module": "@jupyter-widgets/base",
      "_model_module_version": "1.2.0",
      "_model_name": "LayoutModel",
      "_view_count": null,
      "_view_module": "@jupyter-widgets/base",
      "_view_module_version": "1.2.0",
      "_view_name": "LayoutView",
      "align_content": null,
      "align_items": null,
      "align_self": null,
      "border": null,
      "bottom": null,
      "display": null,
      "flex": null,
      "flex_flow": null,
      "grid_area": null,
      "grid_auto_columns": null,
      "grid_auto_flow": null,
      "grid_auto_rows": null,
      "grid_column": null,
      "grid_gap": null,
      "grid_row": null,
      "grid_template_areas": null,
      "grid_template_columns": null,
      "grid_template_rows": null,
      "height": null,
      "justify_content": null,
      "justify_items": null,
      "left": null,
      "margin": null,
      "max_height": null,
      "max_width": null,
      "min_height": null,
      "min_width": null,
      "object_fit": null,
      "object_position": null,
      "order": null,
      "overflow": null,
      "overflow_x": null,
      "overflow_y": null,
      "padding": null,
      "right": null,
      "top": null,
      "visibility": null,
      "width": null
     }
    },
    "c540b296d97c4bceb7e9a65f9ec6a95a": {
     "model_module": "@jupyter-widgets/base",
     "model_module_version": "1.2.0",
     "model_name": "LayoutModel",
     "state": {
      "_model_module": "@jupyter-widgets/base",
      "_model_module_version": "1.2.0",
      "_model_name": "LayoutModel",
      "_view_count": null,
      "_view_module": "@jupyter-widgets/base",
      "_view_module_version": "1.2.0",
      "_view_name": "LayoutView",
      "align_content": null,
      "align_items": null,
      "align_self": null,
      "border": null,
      "bottom": null,
      "display": null,
      "flex": null,
      "flex_flow": null,
      "grid_area": null,
      "grid_auto_columns": null,
      "grid_auto_flow": null,
      "grid_auto_rows": null,
      "grid_column": null,
      "grid_gap": null,
      "grid_row": null,
      "grid_template_areas": null,
      "grid_template_columns": null,
      "grid_template_rows": null,
      "height": null,
      "justify_content": null,
      "justify_items": null,
      "left": null,
      "margin": null,
      "max_height": null,
      "max_width": null,
      "min_height": null,
      "min_width": null,
      "object_fit": null,
      "object_position": null,
      "order": null,
      "overflow": null,
      "overflow_x": null,
      "overflow_y": null,
      "padding": null,
      "right": null,
      "top": null,
      "visibility": null,
      "width": null
     }
    },
    "c83d13328b3040d4b781641112a94861": {
     "model_module": "@jupyter-widgets/controls",
     "model_module_version": "1.5.0",
     "model_name": "ProgressStyleModel",
     "state": {
      "_model_module": "@jupyter-widgets/controls",
      "_model_module_version": "1.5.0",
      "_model_name": "ProgressStyleModel",
      "_view_count": null,
      "_view_module": "@jupyter-widgets/base",
      "_view_module_version": "1.2.0",
      "_view_name": "StyleView",
      "bar_color": null,
      "description_width": ""
     }
    },
    "d0633a2bd3594e3ea8894b0792614b14": {
     "model_module": "@jupyter-widgets/base",
     "model_module_version": "1.2.0",
     "model_name": "LayoutModel",
     "state": {
      "_model_module": "@jupyter-widgets/base",
      "_model_module_version": "1.2.0",
      "_model_name": "LayoutModel",
      "_view_count": null,
      "_view_module": "@jupyter-widgets/base",
      "_view_module_version": "1.2.0",
      "_view_name": "LayoutView",
      "align_content": null,
      "align_items": null,
      "align_self": null,
      "border": null,
      "bottom": null,
      "display": null,
      "flex": null,
      "flex_flow": null,
      "grid_area": null,
      "grid_auto_columns": null,
      "grid_auto_flow": null,
      "grid_auto_rows": null,
      "grid_column": null,
      "grid_gap": null,
      "grid_row": null,
      "grid_template_areas": null,
      "grid_template_columns": null,
      "grid_template_rows": null,
      "height": null,
      "justify_content": null,
      "justify_items": null,
      "left": null,
      "margin": null,
      "max_height": null,
      "max_width": null,
      "min_height": null,
      "min_width": null,
      "object_fit": null,
      "object_position": null,
      "order": null,
      "overflow": null,
      "overflow_x": null,
      "overflow_y": null,
      "padding": null,
      "right": null,
      "top": null,
      "visibility": null,
      "width": null
     }
    },
    "d74c3fda93754a638a41f063fb24521f": {
     "model_module": "@jupyter-widgets/base",
     "model_module_version": "1.2.0",
     "model_name": "LayoutModel",
     "state": {
      "_model_module": "@jupyter-widgets/base",
      "_model_module_version": "1.2.0",
      "_model_name": "LayoutModel",
      "_view_count": null,
      "_view_module": "@jupyter-widgets/base",
      "_view_module_version": "1.2.0",
      "_view_name": "LayoutView",
      "align_content": null,
      "align_items": null,
      "align_self": null,
      "border": null,
      "bottom": null,
      "display": null,
      "flex": null,
      "flex_flow": null,
      "grid_area": null,
      "grid_auto_columns": null,
      "grid_auto_flow": null,
      "grid_auto_rows": null,
      "grid_column": null,
      "grid_gap": null,
      "grid_row": null,
      "grid_template_areas": null,
      "grid_template_columns": null,
      "grid_template_rows": null,
      "height": null,
      "justify_content": null,
      "justify_items": null,
      "left": null,
      "margin": null,
      "max_height": null,
      "max_width": null,
      "min_height": null,
      "min_width": null,
      "object_fit": null,
      "object_position": null,
      "order": null,
      "overflow": null,
      "overflow_x": null,
      "overflow_y": null,
      "padding": null,
      "right": null,
      "top": null,
      "visibility": null,
      "width": null
     }
    },
    "daa5ec52c02248e0987281bc8f649196": {
     "model_module": "@jupyter-widgets/controls",
     "model_module_version": "1.5.0",
     "model_name": "DescriptionStyleModel",
     "state": {
      "_model_module": "@jupyter-widgets/controls",
      "_model_module_version": "1.5.0",
      "_model_name": "DescriptionStyleModel",
      "_view_count": null,
      "_view_module": "@jupyter-widgets/base",
      "_view_module_version": "1.2.0",
      "_view_name": "StyleView",
      "description_width": ""
     }
    },
    "dffda22d514e4ab3b6b6f773729014a3": {
     "model_module": "@jupyter-widgets/base",
     "model_module_version": "1.2.0",
     "model_name": "LayoutModel",
     "state": {
      "_model_module": "@jupyter-widgets/base",
      "_model_module_version": "1.2.0",
      "_model_name": "LayoutModel",
      "_view_count": null,
      "_view_module": "@jupyter-widgets/base",
      "_view_module_version": "1.2.0",
      "_view_name": "LayoutView",
      "align_content": null,
      "align_items": null,
      "align_self": null,
      "border": null,
      "bottom": null,
      "display": null,
      "flex": null,
      "flex_flow": null,
      "grid_area": null,
      "grid_auto_columns": null,
      "grid_auto_flow": null,
      "grid_auto_rows": null,
      "grid_column": null,
      "grid_gap": null,
      "grid_row": null,
      "grid_template_areas": null,
      "grid_template_columns": null,
      "grid_template_rows": null,
      "height": null,
      "justify_content": null,
      "justify_items": null,
      "left": null,
      "margin": null,
      "max_height": null,
      "max_width": null,
      "min_height": null,
      "min_width": null,
      "object_fit": null,
      "object_position": null,
      "order": null,
      "overflow": null,
      "overflow_x": null,
      "overflow_y": null,
      "padding": null,
      "right": null,
      "top": null,
      "visibility": null,
      "width": null
     }
    },
    "ea33cbae1c8f4b898ac95de083225fca": {
     "model_module": "@jupyter-widgets/controls",
     "model_module_version": "1.5.0",
     "model_name": "HTMLModel",
     "state": {
      "_dom_classes": [],
      "_model_module": "@jupyter-widgets/controls",
      "_model_module_version": "1.5.0",
      "_model_name": "HTMLModel",
      "_view_count": null,
      "_view_module": "@jupyter-widgets/controls",
      "_view_module_version": "1.5.0",
      "_view_name": "HTMLView",
      "description": "",
      "description_tooltip": null,
      "layout": "IPY_MODEL_c540b296d97c4bceb7e9a65f9ec6a95a",
      "placeholder": "​",
      "style": "IPY_MODEL_688b56fe5baa47dda18246c6ac679492",
      "value": " 1.86k/1.86k [00:00&lt;00:00, 37.0kB/s]"
     }
    },
    "ec3f3c2a360c48bf9d7b28ad8d8945a6": {
     "model_module": "@jupyter-widgets/controls",
     "model_module_version": "1.5.0",
     "model_name": "DescriptionStyleModel",
     "state": {
      "_model_module": "@jupyter-widgets/controls",
      "_model_module_version": "1.5.0",
      "_model_name": "DescriptionStyleModel",
      "_view_count": null,
      "_view_module": "@jupyter-widgets/base",
      "_view_module_version": "1.2.0",
      "_view_name": "StyleView",
      "description_width": ""
     }
    },
    "ee6a4a013998492fb192951d797b4a12": {
     "model_module": "@jupyter-widgets/controls",
     "model_module_version": "1.5.0",
     "model_name": "FloatProgressModel",
     "state": {
      "_dom_classes": [],
      "_model_module": "@jupyter-widgets/controls",
      "_model_module_version": "1.5.0",
      "_model_name": "FloatProgressModel",
      "_view_count": null,
      "_view_module": "@jupyter-widgets/controls",
      "_view_module_version": "1.5.0",
      "_view_name": "ProgressView",
      "bar_style": "success",
      "description": "",
      "description_tooltip": null,
      "layout": "IPY_MODEL_514e56368631461f85b0f008ecfba66c",
      "max": 711494,
      "min": 0,
      "orientation": "horizontal",
      "style": "IPY_MODEL_0ec7950d9b1f43a583bd82749aeb17c9",
      "value": 711494
     }
    },
    "eeed6c6601b94afd85fe4d174b651b9e": {
     "model_module": "@jupyter-widgets/controls",
     "model_module_version": "1.5.0",
     "model_name": "DescriptionStyleModel",
     "state": {
      "_model_module": "@jupyter-widgets/controls",
      "_model_module_version": "1.5.0",
      "_model_name": "DescriptionStyleModel",
      "_view_count": null,
      "_view_module": "@jupyter-widgets/base",
      "_view_module_version": "1.2.0",
      "_view_name": "StyleView",
      "description_width": ""
     }
    },
    "f1eadbdd0440460fb01f19e1f4e6345e": {
     "model_module": "@jupyter-widgets/controls",
     "model_module_version": "1.5.0",
     "model_name": "HBoxModel",
     "state": {
      "_dom_classes": [],
      "_model_module": "@jupyter-widgets/controls",
      "_model_module_version": "1.5.0",
      "_model_name": "HBoxModel",
      "_view_count": null,
      "_view_module": "@jupyter-widgets/controls",
      "_view_module_version": "1.5.0",
      "_view_name": "HBoxView",
      "box_style": "",
      "children": [
       "IPY_MODEL_73f14487210d4f159f1d9f74baa2f936",
       "IPY_MODEL_97b22c23a7e44a1287d2c74f116eff08",
       "IPY_MODEL_2153d51e79b64e1ba66878e011211582"
      ],
      "layout": "IPY_MODEL_861a8c6a8a304e619d77afc489fd122d"
     }
    },
    "f56f5c651229410486398a2567a32957": {
     "model_module": "@jupyter-widgets/base",
     "model_module_version": "1.2.0",
     "model_name": "LayoutModel",
     "state": {
      "_model_module": "@jupyter-widgets/base",
      "_model_module_version": "1.2.0",
      "_model_name": "LayoutModel",
      "_view_count": null,
      "_view_module": "@jupyter-widgets/base",
      "_view_module_version": "1.2.0",
      "_view_name": "LayoutView",
      "align_content": null,
      "align_items": null,
      "align_self": null,
      "border": null,
      "bottom": null,
      "display": null,
      "flex": null,
      "flex_flow": null,
      "grid_area": null,
      "grid_auto_columns": null,
      "grid_auto_flow": null,
      "grid_auto_rows": null,
      "grid_column": null,
      "grid_gap": null,
      "grid_row": null,
      "grid_template_areas": null,
      "grid_template_columns": null,
      "grid_template_rows": null,
      "height": null,
      "justify_content": null,
      "justify_items": null,
      "left": null,
      "margin": null,
      "max_height": null,
      "max_width": null,
      "min_height": null,
      "min_width": null,
      "object_fit": null,
      "object_position": null,
      "order": null,
      "overflow": null,
      "overflow_x": null,
      "overflow_y": null,
      "padding": null,
      "right": null,
      "top": null,
      "visibility": null,
      "width": null
     }
    },
    "f60a248ee1a74912a1891dd97a7f39b0": {
     "model_module": "@jupyter-widgets/controls",
     "model_module_version": "1.5.0",
     "model_name": "HBoxModel",
     "state": {
      "_dom_classes": [],
      "_model_module": "@jupyter-widgets/controls",
      "_model_module_version": "1.5.0",
      "_model_name": "HBoxModel",
      "_view_count": null,
      "_view_module": "@jupyter-widgets/controls",
      "_view_module_version": "1.5.0",
      "_view_name": "HBoxView",
      "box_style": "",
      "children": [
       "IPY_MODEL_a53d0b30479a4029a91915bf60907e95",
       "IPY_MODEL_ee6a4a013998492fb192951d797b4a12",
       "IPY_MODEL_b04ad7538af54391b647cb033215e782"
      ],
      "layout": "IPY_MODEL_b0cba0a87ec34837aecf58209c4fc73e"
     }
    },
    "f8d0aa7bc3aa483f84d93c204d18bdce": {
     "model_module": "@jupyter-widgets/controls",
     "model_module_version": "1.5.0",
     "model_name": "ProgressStyleModel",
     "state": {
      "_model_module": "@jupyter-widgets/controls",
      "_model_module_version": "1.5.0",
      "_model_name": "ProgressStyleModel",
      "_view_count": null,
      "_view_module": "@jupyter-widgets/base",
      "_view_module_version": "1.2.0",
      "_view_name": "StyleView",
      "bar_color": null,
      "description_width": ""
     }
    },
    "fdf4082c06ba444c9c975674aeece9a8": {
     "model_module": "@jupyter-widgets/controls",
     "model_module_version": "1.5.0",
     "model_name": "DescriptionStyleModel",
     "state": {
      "_model_module": "@jupyter-widgets/controls",
      "_model_module_version": "1.5.0",
      "_model_name": "DescriptionStyleModel",
      "_view_count": null,
      "_view_module": "@jupyter-widgets/base",
      "_view_module_version": "1.2.0",
      "_view_name": "StyleView",
      "description_width": ""
     }
    }
   }
  }
 },
 "nbformat": 4,
 "nbformat_minor": 5
}
